{
 "cells": [
  {
   "cell_type": "markdown",
   "metadata": {},
   "source": [
    "##### Spinel grain segmentaion workflow\n",
    "### Author: J.F. Einsle \n",
    "#### Contact: jfe26@cam.ac.uk\n",
    "\n",
    "\n",
    "\n",
    "This is a basic workflow that I put together to segment spinel grains from a background matrix. It has been demonstrated to be fairly robust procedure against a decent number of the data sets taken so far.  However, the exact values for thresholds and heights may need to be adjusted.  This can be addreesed in future versions of the notebook.  Also, need to add in saving off images at several of the steps.\n",
    "\n",
    "\n",
    "### References:\n",
    "• useful website for python based segmentation: http://emmanuelle.github.io/a-tutorial-on-segmentation.html\n",
    "\n",
    "• 'Microscope Image Processing' by Q. Wu, F. A. Merchant and K. R. Castleman \n",
    "\n",
    "• Matlab / Mathworks blog\n",
    "\n",
    "• the Scikit-Image examples Gallery: http://scikit-image.org/docs/stable/auto_examples/\n",
    "\n",
    "#### Note: ususally run with in  %matplotlib qt5, as gives the figures in a new seperate window. this is needed for the interactive tools.  For documenting here going to turn on the %matplotlib inline option.\n",
    "\n",
    "### Note after hyperspy release 1.3(?) use matplotlib qt5....\n",
    "\n",
    "on windows this means need to launch from the'conda promt' not just cmd promt.  also note if using the 'easy windows install of hyperspy' then you are still using qt4...makes perfect sense."
   ]
  },
  {
   "cell_type": "markdown",
   "metadata": {},
   "source": [
    "## Work Flow / index <a id='link1'></a>\n",
    "\n",
    "#### <a href='#link2'> **0. Preliminary libaries**</a>\n",
    "\n",
    "#### <a href='#link3'> **1. Import data, examine raw histogram**</a>\n",
    "\n",
    "#### <a href='#link4'> **2. Noise filtering and smoothing with total variation filter**</a>\n",
    "\n",
    "#### <a href='#link5'> **3. Image segmentation: Foreground from background**</a>\n",
    "\n",
    "#### <a href='#link6'> **4. Image segmentation: pulling apart objects**</a>\n",
    "#####  <a href='#link7'> **4.1 Generate marker field and distance map **<a/>\n",
    "##### <a href='#link8'> **4.2 Application of h-maxima **<a/>\n",
    "#####  <a href='#link9'> **4.3 Boundery removal and overlay**<a/>\n",
    "\n",
    "\n",
    "\n",
    "#### <a href='#link10'> **5. Manual Seeding**</a>\n"
   ]
  },
  {
   "cell_type": "markdown",
   "metadata": {},
   "source": [
    "## 0. Prelimnary Python Libaries <a id='link2'></a>\n",
    " <a href='#link2'> **Return to workflow**</a>"
   ]
  },
  {
   "cell_type": "code",
   "execution_count": 1,
   "metadata": {},
   "outputs": [],
   "source": [
    "%matplotlib qt5\n",
    "#%matplotlib inline\n",
    "import hyperspy.api as hs\n",
    "import numpy as np\n",
    "\n",
    "import matplotlib.pyplot as plt\n",
    "\n",
    "import scipy\n",
    "from scipy import ndimage as ndi\n",
    "\n",
    "import skimage as ski\n",
    "from skimage.segmentation import random_walker\n",
    "from skimage.feature import peak_local_max\n",
    "from skimage import exposure\n",
    "from skimage import measure\n",
    "from skimage import morphology as mph\n",
    "from skimage import restoration\n",
    "from skimage.filters import threshold_otsu\n",
    "from skimage.color import rgb2gray"
   ]
  },
  {
   "cell_type": "markdown",
   "metadata": {},
   "source": [
    " ## Load the raw data\n",
    " <a id='link3'></a>\n",
    " \n",
    " <a href='#link2'> **Return to workflow**</a> "
   ]
  },
  {
   "cell_type": "code",
   "execution_count": 2,
   "metadata": {},
   "outputs": [],
   "source": [
    "grains=hs.load('/Users/mq20197500/Documents/Spinel_paper_fig/006_grey.tif')"
   ]
  },
  {
   "cell_type": "code",
   "execution_count": 3,
   "metadata": {},
   "outputs": [
    {
     "data": {
      "text/plain": [
       "<Signal2D, title: , dimensions: (|1024, 768)>"
      ]
     },
     "execution_count": 3,
     "metadata": {},
     "output_type": "execute_result"
    }
   ],
   "source": [
    "grains "
   ]
  },
  {
   "cell_type": "code",
   "execution_count": 4,
   "metadata": {},
   "outputs": [],
   "source": [
    "grains.plot()"
   ]
  },
  {
   "cell_type": "markdown",
   "metadata": {},
   "source": [
    "### Examine the histogram\n",
    "\n",
    "There is a reasonalbe amount of noise in the image above (not un workable,just not making the task of segmentation easy).  So in order to figure out the next step need to examine the distribution of the pixel intesities.  Do this with the histogram below.\n",
    "\n",
    "#### normalise the data\n",
    "\n",
    "need to normalise the data and convert to a floating point so that the filters are happy."
   ]
  },
  {
   "cell_type": "code",
   "execution_count": 5,
   "metadata": {},
   "outputs": [],
   "source": [
    "grain_nrm = grains.deepcopy()\n",
    "grain_nrm.data = grain_nrm.data /(np.max(grain_nrm.data))\n"
   ]
  },
  {
   "cell_type": "code",
   "execution_count": 6,
   "metadata": {
    "scrolled": true
   },
   "outputs": [
    {
     "data": {
      "text/plain": [
       "Text(0.5, 1.0, 'Histogram of voxel values')"
      ]
     },
     "execution_count": 6,
     "metadata": {},
     "output_type": "execute_result"
    }
   ],
   "source": [
    "grain_nrm = grains.deepcopy()\n",
    "grain_nrm.data = grain_nrm.data /(np.max(grain_nrm.data))\n",
    "\n",
    "hist = exposure.histogram(grain_nrm.data)\n",
    "\n",
    "\n",
    "plt.figure()\n",
    "plt.plot(hist[1], hist[0], label='Raw BSE intesity')\n",
    "#plt.xlim(0.05,1)\n",
    "#plt.ylim(0,1100)\n",
    "plt.legend()\n",
    "plt.title('Histogram of voxel values')\n"
   ]
  },
  {
   "cell_type": "markdown",
   "metadata": {},
   "source": [
    " <a href='#link2'> **Return to workflow**</a> \n",
    "\n",
    "\n",
    "\n",
    "## Noise filtering / smoothing with total variation filter  <a id='link4'></a>\n",
    "\n",
    "Segmentation of any data set is improved by applying a filter to smooth out the data, and minimise the noise or grain in the image.  I have generally found for a wide range of electron microscopy data that a total variation filter {see refs on the funtion here: hyperlink}.  This filter has the effect of 'cartooning' or aplifying edge contrast.  From documentation, the best choise for the weight of this filter would be the  the full width at half maxium (FWHM)of the peak associated with the feature of interest.  So examiing the histogram above for the peak centered on ~170, get a FWHM of roughly 30.  However, sometime you need to go a little stronger or weaker to determine the best weight. Here found optimal value at 40. \n",
    "\n",
    "#### Aside:\n",
    "as the data is still only 8 bit the pixel intesity goes from 0-255, if acquired 16 bit or converted to float will get FWHM values that are more \"decimal\" in nature.\n",
    "\n",
    "as above use a normalised version of the data.  also for tva or nlm denoiseing the weight or h values are usually based on the measure of noise in the image. a good starting place is the Gaussian noise measuere caputered in the 'estimate_sigma' function"
   ]
  },
  {
   "cell_type": "code",
   "execution_count": 9,
   "metadata": {},
   "outputs": [
    {
     "name": "stdout",
     "output_type": "stream",
     "text": [
      "0.020751056319657627\n"
     ]
    }
   ],
   "source": [
    "grain_nrm.change_dtype('float32')\n",
    "sigma_est = np.mean(restoration.estimate_sigma(nlm.data, multichannel=False))\n",
    "print(sigma_est)"
   ]
  },
  {
   "cell_type": "code",
   "execution_count": 10,
   "metadata": {},
   "outputs": [
    {
     "data": {
      "text/plain": [
       "0.007843138"
      ]
     },
     "execution_count": 10,
     "metadata": {},
     "output_type": "execute_result"
    }
   ],
   "source": [
    "np.min(grain_nrm.data)"
   ]
  },
  {
   "cell_type": "code",
   "execution_count": 11,
   "metadata": {},
   "outputs": [],
   "source": [
    "\n",
    "\n",
    "tva2 = grain_nrm.deepcopy()\n",
    "tva2.data =restoration.denoise_tv_chambolle(grain_nrm.data, weight=2*sigma_est)\n",
    "tva2.metadata.General.title='Total variation filter weight = sigma_est'\n",
    "tva2.change_dtype('float32')\n",
    "#tva2.plot(cmap='viridis')\n",
    "#tva2.save('E17-059_006_tva_grains_sig_est.tif')"
   ]
  },
  {
   "cell_type": "markdown",
   "metadata": {},
   "source": [
    "## new error\n",
    "\n",
    "not sure why getting this run time warning.... especially as the task is striaght forward....."
   ]
  },
  {
   "cell_type": "markdown",
   "metadata": {},
   "source": [
    "## Non-Local Means Denoiseing\n",
    "\n",
    "new implimentation of this filter, makes it slightly more `realistic' than the TV filter....."
   ]
  },
  {
   "cell_type": "code",
   "execution_count": 12,
   "metadata": {},
   "outputs": [],
   "source": [
    "nlm=grain_nrm.deepcopy()\n",
    "nlm.data = restoration.denoise_nl_means(grain_nrm.data, h=1.15 * sigma_est, fast_mode=False)\n",
    "#nlm.plot()\n",
    "#nlm.change_dtype('float32')\n",
    "#nlm.save('E17_059_006_nlm_filter.tif')"
   ]
  },
  {
   "cell_type": "code",
   "execution_count": 13,
   "metadata": {},
   "outputs": [
    {
     "name": "stdout",
     "output_type": "stream",
     "text": [
      "Overwrite 'E17_059_006_nlm_filter.tif' (y/n)?\n",
      "n\n"
     ]
    }
   ],
   "source": [
    "nlm.plot()\n",
    "nlm.save('E17_059_006_nlm_filter.tif')"
   ]
  },
  {
   "cell_type": "code",
   "execution_count": null,
   "metadata": {},
   "outputs": [],
   "source": []
  },
  {
   "cell_type": "markdown",
   "metadata": {},
   "source": [
    "### Compare the two data sets visually\n",
    "\n",
    "using another Look Up Table (LUT) / color map to plot the data can bring out feature not apparent in grayscale. Also it is just more visually interesting to look at. For instantce the 'magma' color map as it is perceptually uniform, but helps drive contrast a little more than a straight greyscale.  Preceptually uniform colormaps do not give a) false interpitations due to the map being set up non-linerally, and b) will usually print on a grayscale printer correctly.\n",
    "\n",
    "#### Aside on color\n",
    "Also changeing the colormap in the script does nothing to how the image will be saved... in that a grayscale image (8/ 16 or 32 bit) will still save as a graysacle tiff. To save the ploted image as a 'color' image you need to convert the information to RGB or HSE data and then save that way. (outside the scope of what I am doing here).  Though if you save the ploted 'figures' these can preserve the color information.\n"
   ]
  },
  {
   "cell_type": "code",
   "execution_count": 14,
   "metadata": {},
   "outputs": [],
   "source": [
    "grains.plot(cmap='magma')\n",
    "\n",
    "tva2.plot(cmap='magma')"
   ]
  },
  {
   "cell_type": "markdown",
   "metadata": {},
   "source": [
    "### Examine the histogram of the filtered image\n",
    "\n",
    "in the filtered image histogram can see that the noise is now significantly reduced. also the 'bright' peak associated with the spinels has become narrower.\n",
    "\n",
    "I also compute and report the Otsu threshold of the image.  This is a classical segmentation tool for splitting image data which is bimodal. Though as will discuss below this does not fully capture all the data we are interested in."
   ]
  },
  {
   "cell_type": "code",
   "execution_count": 14,
   "metadata": {
    "scrolled": true
   },
   "outputs": [
    {
     "name": "stdout",
     "output_type": "stream",
     "text": [
      "phase_otsu= 0.3818397674458538\n"
     ]
    },
    {
     "data": {
      "text/plain": [
       "Text(0.5, 1.0, 'Histogram of pixel values')"
      ]
     },
     "execution_count": 14,
     "metadata": {},
     "output_type": "execute_result"
    }
   ],
   "source": [
    "phase_otsu = ski.filters.threshold_otsu(nlm.data)\n",
    "print('phase_otsu=', phase_otsu)\n",
    "\n",
    "hist2 = exposure.histogram(nlm.data)\n",
    "\n",
    "\n",
    "plt.figure()\n",
    "plt.plot(hist2[1], hist2[0], label=' total variation intesity')\n",
    "#plt.plot(hist2[1],phase_otsu)\n",
    "#plt.xlim(0.05,1)\n",
    "#plt.ylim(0,1100)\n",
    "plt.legend()\n",
    "plt.title('Histogram of pixel values')\n",
    "\n",
    "\n"
   ]
  },
  {
   "cell_type": "code",
   "execution_count": 38,
   "metadata": {},
   "outputs": [
    {
     "name": "stdout",
     "output_type": "stream",
     "text": [
      "phase_otsu= 0.3818397674458538\n"
     ]
    },
    {
     "name": "stderr",
     "output_type": "stream",
     "text": [
      "/Users/mq20197500/opt/anaconda3/lib/python3.7/site-packages/ipykernel_launcher.py:9: RuntimeWarning: More than 20 figures have been opened. Figures created through the pyplot interface (`matplotlib.pyplot.figure`) are retained until explicitly closed and may consume too much memory. (To control this warning, see the rcParam `figure.max_open_warning`).\n",
      "  if __name__ == '__main__':\n"
     ]
    },
    {
     "data": {
      "text/plain": [
       "Text(0.5, 1.0, 'Histogram of pixel values')"
      ]
     },
     "execution_count": 38,
     "metadata": {},
     "output_type": "execute_result"
    }
   ],
   "source": [
    "phase_otsu = ski.filters.threshold_otsu(nlm.data)\n",
    "print('phase_otsu=', phase_otsu)\n",
    "seed_value=(1.1*phase_otsu)\n",
    " \n",
    " \n",
    "hist2 = exposure.histogram(nlm.data)\n",
    " \n",
    " \n",
    "plt.figure()\n",
    "plt.plot(hist2[1], hist2[0], label=' total variation intesity')\n",
    "#add Otsu threshold\n",
    "plt.axvline(phase_otsu, ls='--', lw=3)\n",
    "plt.text(x=phase_otsu-0.10, y=10000, s='Otsu')\n",
    "#add Seed value lin\n",
    "plt.axvline(seed_value, ls='solid', lw=3)\n",
    "plt.text(x=seed_value+0.05, y=0.85, s='Seed')\n",
    "plt.title('Histogram of pixel values')"
   ]
  },
  {
   "cell_type": "code",
   "execution_count": 16,
   "metadata": {},
   "outputs": [],
   "source": [
    "nlm.plot(cmap='viridis')"
   ]
  },
  {
   "cell_type": "code",
   "execution_count": 17,
   "metadata": {},
   "outputs": [],
   "source": [
    "nlm=hs.load('E17_059_006_nlm_filter.tif')"
   ]
  },
  {
   "cell_type": "markdown",
   "metadata": {},
   "source": [
    " <a href='#link2'> **Return to workflow**</a> \n",
    "\n",
    "\n",
    "## Image segmentation: pulling apart objects  <a id='link5'></a>\n",
    "\n",
    "Segmentation for this data has two tasks. First identify the spinel grains from the back ground. The second task is to pull touching grians apart from one another.   \n",
    "\n",
    "By the histogram above the data has a nice bimodal distribution. In theory the Otsu method of thresholding should segment the grains from the back ground. Regretabily this tends to overselect bright features in this image and creates problems for pulling apart individual grains in the next step. \n",
    "\n",
    "In stead will use a watershed critera to define basins of features. The basins here are defined by the pockets created when looking at a height map of the image. Then by seeding the image with areas that define the foreground (ie grains) but not worrying about getting all the grains, and seeding values for the background, I am able to let the watershed algorithm do the work of defining the two regions.\n",
    "\n",
    "For the height map I use a Scharr filter, which is a variation on the Sobel, that by finding the gradent in the images idetifies edges. \n",
    "\n",
    "The seed, or markers, for foreground is roughly the maximal bright peak value. The seed for the background is the peak of the dark peak.\n"
   ]
  },
  {
   "cell_type": "code",
   "execution_count": 18,
   "metadata": {},
   "outputs": [
    {
     "data": {
      "text/plain": [
       "Text(0.5, 1.0, 'Histogram of pixel values')"
      ]
     },
     "execution_count": 18,
     "metadata": {},
     "output_type": "execute_result"
    }
   ],
   "source": [
    "scharr = ski.filters.sobel(nlm.data)\n",
    "\n",
    "#plt.figure()\n",
    "#plt.imshow(scharr)\n",
    "\n",
    "hist3 = exposure.histogram(scharr)\n",
    "\n",
    "\n",
    "plt.figure()\n",
    "plt.plot(hist3[1], hist3[0], label='scharr intesity')\n",
    "#plt.xlim(0.05,1)\n",
    "#plt.ylim(0,1100)\n",
    "plt.legend()\n",
    "plt.title('Histogram of pixel values')\n"
   ]
  },
  {
   "cell_type": "code",
   "execution_count": 19,
   "metadata": {},
   "outputs": [],
   "source": [
    "nlm.plot()"
   ]
  },
  {
   "cell_type": "code",
   "execution_count": 20,
   "metadata": {},
   "outputs": [
    {
     "data": {
      "text/plain": [
       "<matplotlib.image.AxesImage at 0x11e0ef110>"
      ]
     },
     "execution_count": 20,
     "metadata": {},
     "output_type": "execute_result"
    }
   ],
   "source": [
    "plt.figure()\n",
    "plt.imshow(scharr,cmap='BuGn')"
   ]
  },
  {
   "cell_type": "markdown",
   "metadata": {},
   "source": [
    "Here using a watershed transformation to pull the grains out from the background based on the markers set by the histogram of the denoised image.\n",
    "\n",
    "Markers act as seeds for the watershed.  now to remoive the noisy one need to "
   ]
  },
  {
   "cell_type": "code",
   "execution_count": 21,
   "metadata": {},
   "outputs": [
    {
     "data": {
      "text/plain": [
       "<matplotlib.image.AxesImage at 0x1d3c184090>"
      ]
     },
     "execution_count": 21,
     "metadata": {},
     "output_type": "execute_result"
    }
   ],
   "source": [
    "markers = nlm.deepcopy()\n",
    "markers.data[nlm.data < phase_otsu] = 1\n",
    "#markers[tva2.data < 0.01] += 1\n",
    "markers.data[nlm.data > 1.1*phase_otsu] = 2\n",
    "plt.figure()\n",
    "plt.imshow(markers)\n"
   ]
  },
  {
   "cell_type": "code",
   "execution_count": 22,
   "metadata": {},
   "outputs": [
    {
     "name": "stdout",
     "output_type": "stream",
     "text": [
      "181\n"
     ]
    }
   ],
   "source": [
    "\n",
    "labels = mph.watershed(scharr, markers.data)\n",
    "grains_ws= hs.signals.Signal2D(labels)\n",
    "#grains_ws.change_dtype('float32')\n",
    "grains_ws.metadata.General.title = 'scharr based water shed'\n",
    "grains_ws.data[grains_ws.data==1]=0\n",
    "grains_ws.data[grains_ws.data==2]=1\n",
    "\n",
    "#grains_ws.data[grains_ws.data==0]=np.nan\n",
    "grains_ws.plot(cmap='magma', scalebar=False)\n",
    "num_grains = measure.label(labels, \n",
    "                        background=0)\n",
    "print(num_grains.max())\n",
    "num_grains = (num_grains + 1).astype(np.uint8)"
   ]
  },
  {
   "cell_type": "code",
   "execution_count": 23,
   "metadata": {},
   "outputs": [
    {
     "data": {
      "text/plain": [
       "0.45820772093502454"
      ]
     },
     "execution_count": 23,
     "metadata": {},
     "output_type": "execute_result"
    }
   ],
   "source": [
    "1.2*phase_otsu"
   ]
  },
  {
   "cell_type": "code",
   "execution_count": 24,
   "metadata": {},
   "outputs": [],
   "source": [
    "grains_ws.plot(cmap='magma', scalebar=False)\n"
   ]
  },
  {
   "cell_type": "markdown",
   "metadata": {},
   "source": [
    "next bit here removes 'holes' in the grains which will mess up the watershed segmentation.  This is not always needed."
   ]
  },
  {
   "cell_type": "code",
   "execution_count": 25,
   "metadata": {},
   "outputs": [
    {
     "name": "stderr",
     "output_type": "stream",
     "text": [
      "/Users/mq20197500/opt/anaconda3/lib/python3.7/site-packages/skimage/morphology/misc.py:208: UserWarning: Any labeled images will be returned as a boolean array. Did you mean to use a boolean array?\n",
      "  \"Did you mean to use a boolean array?\", UserWarning)\n"
     ]
    }
   ],
   "source": [
    "minsize=300\n",
    "grain_bin2=grains_ws.deepcopy()\n",
    "#grain_bin2.data = mph.opening(grain_bin2.data, mph.disk(5))\n",
    "grain_bin2.data = mph.remove_small_holes(grains_ws.data, area_threshold=minsize)\n",
    "\n",
    "\n",
    "grain_bin2.plot()"
   ]
  },
  {
   "cell_type": "markdown",
   "metadata": {},
   "source": [
    "save off watersed of all high intesity grains (inclusding saturating metal grains) from background matrix."
   ]
  },
  {
   "cell_type": "code",
   "execution_count": 26,
   "metadata": {},
   "outputs": [
    {
     "name": "stdout",
     "output_type": "stream",
     "text": [
      "Overwrite 'E17-059_006_nlm__bin_WS_bkg.tif' (y/n)?\n",
      "n\n"
     ]
    }
   ],
   "source": [
    "grain_bin2.change_dtype('float32')\n",
    "grain_bin2.save('E17-059_006_nlm__bin_WS_bkg.tif')"
   ]
  },
  {
   "cell_type": "markdown",
   "metadata": {},
   "source": [
    "### Remove high intesity data\n",
    "\n",
    "go back to top of to review histogram (i.e. rerun cell if closed window)\n",
    "\n"
   ]
  },
  {
   "cell_type": "code",
   "execution_count": 27,
   "metadata": {},
   "outputs": [
    {
     "name": "stdout",
     "output_type": "stream",
     "text": [
      "Overwrite 'E17-059_006_nlm__bin_WS_bkg_sat_rmv.tif' (y/n)?\n",
      "n\n"
     ]
    }
   ],
   "source": [
    "met_markers = nlm.deepcopy()\n",
    "met_markers.data[nlm.data >= 0.98] =1\n",
    "#markers[tva2.data < 0.01] += 1\n",
    "met_markers.data[nlm.data <0.98] =0\n",
    "met_markers.data = mph.dilation(met_markers.data, mph.disk(5))\n",
    "#plt.figure()\n",
    "#plt.imshow(met_markers)\n",
    "met_markers.plot()\n",
    "grains3= grain_bin2 - met_markers\n",
    "grains3.data[grains3.data<0]=0\n",
    "grains3.save('E17-059_006_nlm__bin_WS_bkg_sat_rmv.tif')\n",
    "grains3.plot()"
   ]
  },
  {
   "cell_type": "code",
   "execution_count": 28,
   "metadata": {},
   "outputs": [
    {
     "name": "stdout",
     "output_type": "stream",
     "text": [
      "Overwrite 'E17-059_006_nlm__bin_WS_bkg_sat_rmv.tif' (y/n)?\n",
      "n\n"
     ]
    }
   ],
   "source": [
    "grains3.change_dtype('uint8')\n",
    "grains3.save('E17-059_006_nlm__bin_WS_bkg_sat_rmv.tif')\n"
   ]
  },
  {
   "cell_type": "code",
   "execution_count": 29,
   "metadata": {},
   "outputs": [
    {
     "name": "stderr",
     "output_type": "stream",
     "text": [
      "/Users/mq20197500/opt/anaconda3/lib/python3.7/site-packages/skimage/morphology/misc.py:208: UserWarning: Any labeled images will be returned as a boolean array. Did you mean to use a boolean array?\n",
      "  \"Did you mean to use a boolean array?\", UserWarning)\n"
     ]
    }
   ],
   "source": [
    "minsize=300\n",
    "grains3.change_dtype('uint8')\n",
    "\n",
    "grain4=grains3.deepcopy()\n",
    "#grain_bin2.data = mph.opening(grain_bin2.data, mph.disk(5))\n",
    "grain4.data = mph.remove_small_holes(grains3.data, area_threshold=minsize)\n",
    "\n",
    "\n",
    "grain4.plot()\n",
    "\n"
   ]
  },
  {
   "cell_type": "code",
   "execution_count": 30,
   "metadata": {},
   "outputs": [
    {
     "name": "stdout",
     "output_type": "stream",
     "text": [
      "Overwrite 'E17-059_006_nlm__bin_WS_bkg_sat_rmv.tif' (y/n)?\n",
      "n\n"
     ]
    }
   ],
   "source": [
    "grains3=grain4.deepcopy()\n",
    "\n",
    "grains3.save('E17-059_006_nlm__bin_WS_bkg_sat_rmv.tif')\n"
   ]
  },
  {
   "cell_type": "markdown",
   "metadata": {},
   "source": [
    "lets try manual seeding\n",
    "#### <a href='#link10'> **5. Manual Seeding**</a>\n",
    "\n"
   ]
  },
  {
   "cell_type": "markdown",
   "metadata": {},
   "source": [
    " <a href='#link2'> **Return to workflow**</a> \n",
    "\n",
    "\n",
    "## Image segmentation: pulling apart objects <a id='link6'></a>\n",
    "\n",
    "As can be seen in the final foreground - background segmented image, there are several grains that when compared to the grayscale image are now merged into a continious object. This problem is the classical watershed application.(https://en.wikipedia.org/wiki/Watershed_%28image_processing%29)\n",
    "\n",
    "### Generate marker field and distance map<a id='link7'></a>\n",
    "To address this we look at the grains isolated from the backgroud (so use the above image as mask to start with) and then figure out how to pull these grains apart. The basic approach to this is find the eulcidian distance of every forground pixel from its neighbors. By finding these maximia and useing them as the seeds combined with the distance map the watershed algorithm cuts apart touching grains. and documentation here: http://scikit-image.org/docs/dev/auto_examples/segmentation/plot_watershed.html#sphx-glr-auto-examples-segmentation-plot-watershed-py.)\n",
    "\n",
    "#### NOTE\n",
    "\n",
    "on the distance map perfrom on the binary of the grains where holes have been filled in (grain_bin2) not the inital watershed...."
   ]
  },
  {
   "cell_type": "code",
   "execution_count": 31,
   "metadata": {},
   "outputs": [
    {
     "data": {
      "text/plain": [
       "Text(0.5, 1.0, 'Histogram of pixel values')"
      ]
     },
     "execution_count": 31,
     "metadata": {},
     "output_type": "execute_result"
    }
   ],
   "source": [
    "distance = ndi.distance_transform_edt(grains3.data)\n",
    "hist4 = exposure.histogram(distance)\n",
    "\n",
    "\n",
    "dist_map=hs.signals.Signal2D(distance)\n",
    "dist_map.plot()\n",
    "local_maxi = peak_local_max(distance, indices=False, footprint=np.ones((3, 3)),labels=grain_bin2.data)\n",
    "loc_max=hs.signals.Signal2D(local_maxi)\n",
    "#loc_max.plot()\n",
    "\n",
    "plt.figure()\n",
    "plt.plot(hist4[1], hist4[0], label='distance = basin depth')\n",
    "#plt.xlim(0.05,1)\n",
    "#plt.ylim(0,1100)\n",
    "plt.legend()\n",
    "plt.title('Histogram of pixel values')"
   ]
  },
  {
   "cell_type": "code",
   "execution_count": 29,
   "metadata": {},
   "outputs": [],
   "source": [
    "dist_map.plot(cmap='BuGn')\n"
   ]
  },
  {
   "cell_type": "code",
   "execution_count": 32,
   "metadata": {
    "scrolled": true
   },
   "outputs": [
    {
     "data": {
      "text/plain": [
       "Text(0.5, 1.0, 'Histogram of pixel values')"
      ]
     },
     "execution_count": 32,
     "metadata": {},
     "output_type": "execute_result"
    }
   ],
   "source": [
    "plt.figure()\n",
    "plt.plot(hist4[1], hist4[0], label='distance = basin depth')\n",
    "#plt.xlim(0.05,1)\n",
    "#plt.ylim(0,1100)\n",
    "plt.legend()\n",
    "plt.title('Histogram of pixel values')"
   ]
  },
  {
   "cell_type": "markdown",
   "metadata": {},
   "source": [
    " <a href='#link2'> **Return to workflow**</a> \n",
    "\n",
    "### h-mnima to preserve texture <a id='link8'></a>\n",
    "\n",
    "Following the worked example in the link above on the data in this notebook results in regions of oversegmentation. This is a well known point of discussion with many of the segmentation algorithms.  One way to address oversegmentation in watershed transformations '... is to modify the image to remove minima that are too shallow. That is exactly what the h-minima transform (imhmin) does.' (https://uk.mathworks.com/company/newsletters/articles/the-watershed-transform-strategies-for-image-segmentation.html')\n",
    "\n",
    "This function is summarised / demonstrated in 'Microscope Image Processing' by Q. Wu, F. A. Merchant and K. R. Castleman Chapter 8, but the equation describing it is not compleate.  There is a reference where the function is fully defined, but I have not been able to locate it.  Regradless, application of the h-maxima to the positive distance map, or h-minima to the negative distance map (depends how you want to think about the watershed process) results in an image segmentation that manages to isolate the majority of the grains in the image."
   ]
  },
  {
   "cell_type": "code",
   "execution_count": null,
   "metadata": {},
   "outputs": [],
   "source": []
  },
  {
   "cell_type": "code",
   "execution_count": 37,
   "metadata": {},
   "outputs": [
    {
     "name": "stderr",
     "output_type": "stream",
     "text": [
      "/Users/mq20197500/opt/anaconda3/lib/python3.7/site-packages/hyperspy/drawing/utils.py:133: RuntimeWarning: More than 20 figures have been opened. Figures created through the pyplot interface (`matplotlib.pyplot.figure`) are retained until explicitly closed and may consume too much memory. (To control this warning, see the rcParam `figure.max_open_warning`).\n",
      "  fig = plt.figure(**kwargs)\n",
      "/Users/mq20197500/opt/anaconda3/lib/python3.7/site-packages/hyperspy/drawing/utils.py:133: RuntimeWarning: More than 20 figures have been opened. Figures created through the pyplot interface (`matplotlib.pyplot.figure`) are retained until explicitly closed and may consume too much memory. (To control this warning, see the rcParam `figure.max_open_warning`).\n",
      "  fig = plt.figure(**kwargs)\n"
     ]
    },
    {
     "name": "stdout",
     "output_type": "stream",
     "text": [
      "<Signal2D, title: , dimensions: (|1024, 768)>\n",
      "281\n"
     ]
    },
    {
     "name": "stderr",
     "output_type": "stream",
     "text": [
      "/Users/mq20197500/opt/anaconda3/lib/python3.7/site-packages/hyperspy/drawing/utils.py:133: RuntimeWarning: More than 20 figures have been opened. Figures created through the pyplot interface (`matplotlib.pyplot.figure`) are retained until explicitly closed and may consume too much memory. (To control this warning, see the rcParam `figure.max_open_warning`).\n",
      "  fig = plt.figure(**kwargs)\n",
      "/Users/mq20197500/opt/anaconda3/lib/python3.7/site-packages/matplotlib/ticker.py:632: UserWarning: Warning: converting a masked element to nan.\n",
      "  return '%-12g' % value\n"
     ]
    }
   ],
   "source": [
    "max_height = 4\n",
    "#use hminima fctn as ust upgraded to scikit img 0.13\n",
    "\n",
    "h_max= mph.h_maxima(distance, h= max_height) \n",
    "h_max=hs.signals.Signal2D(h_max)\n",
    "h_max.data[h_max.data<0]=0\n",
    "h_max.plot(cmap='magma')\n",
    "\n",
    "#local_maxi = peak_local_max(h_max.data, indices=False, footprint=np.ones((3, 3)),labels=grain_bin2.data)\n",
    "#loc_max=hs.signals.Signal2D(local_maxi)\n",
    "#loc_max.plot()\n",
    "joining= mph.dilation(h_max.data, mph.disk(3))\n",
    "seeds = ndi.label(joining)[0]\n",
    "#markers = mph.opening(markers, mph.disk(3))\n",
    "#markers = morphology.erosion(markers, morphology.disk(3))\n",
    "mark_map=hs.signals.Signal2D(seeds)\n",
    "mark_map.metadata.General.title = 'seeds'\n",
    "\n",
    "mark_map.change_dtype('float32')\n",
    "mark_map.data[mark_map.data==0]=np.nan\n",
    "mark_map.plot(cmap='Reds')\n",
    "print(np.max(markers))\n",
    "\n",
    "\n",
    "labels = mph.watershed(-distance, seeds, mask=grains3.data)\n",
    "grains_sep= hs.signals.Signal2D(labels)\n",
    "grains_sep.change_dtype('float32')\n",
    "grains_sep.metadata.General.title = 'h_maxima water shed'\n",
    "grains_sep.data[grains_sep.data==0]=np.nan\n",
    "grains_sep.plot(cmap='magma', scalebar=False)\n",
    "num_grains = measure.label(labels, \n",
    "                        background=0)\n",
    "print(num_grains.max())\n",
    "num_grains = (num_grains + 1).astype(np.uint8)\n"
   ]
  },
  {
   "cell_type": "markdown",
   "metadata": {},
   "source": [
    "save of the grains that have now been pulled apart (and labeled)"
   ]
  },
  {
   "cell_type": "code",
   "execution_count": 34,
   "metadata": {},
   "outputs": [],
   "source": [
    "grains_sep.save('SEM_img_016_nlm__bin_WS_grains_no_sat_rev4.tif')"
   ]
  },
  {
   "cell_type": "markdown",
   "metadata": {},
   "source": [
    " <a href='#link2'> **Return to workflow**</a> \n",
    "\n",
    "### Boundery removal and overlay <a id='link9'></a>\n",
    "\n",
    "This last step cuts off a 4 pixel boundery around every labeled object. This means a) you caneasily tell where one grain is and b) is useing something like ImageJ with Bone J for particle analysis you will easily be able to provide the resutlsing binary for measurement.\n",
    "\n",
    "The final step is purly for presintation, producing the 'stained glass' look where each labelded particle is trasparently overlayed onto a reference image (in this case the denoised version of the orignal.\n",
    "\n",
    "#### <a href='#link10'> **5. Manual Seeding**</a>"
   ]
  },
  {
   "cell_type": "code",
   "execution_count": 35,
   "metadata": {},
   "outputs": [
    {
     "name": "stderr",
     "output_type": "stream",
     "text": [
      "/Users/Isra/anaconda3/lib/python3.6/site-packages/matplotlib/pyplot.py:537: RuntimeWarning: More than 20 figures have been opened. Figures created through the pyplot interface (`matplotlib.pyplot.figure`) are retained until explicitly closed and may consume too much memory. (To control this warning, see the rcParam `figure.max_open_warning`).\n",
      "  max_open_warning, RuntimeWarning)\n"
     ]
    }
   ],
   "source": [
    "grain_bd=ski.segmentation.find_boundaries(labels)\n",
    "grain_bd = mph.dilation(grain_bd,mph.disk(1))\n",
    "grain_bd= np.invert(grain_bd)\n",
    "grain_bd=hs.signals.Signal2D(grain_bd)\n",
    "#grain_bd.plot(cmap='magma')\n",
    "isolated = grains_ws.deepcopy()\n",
    "isolated.data= labels  * grain_bd.data\n",
    "#isolated.data[isolated.data==0]=np.nan\n",
    "\n",
    "isolated.plot(cmap='magma', scalebar=False)\n",
    "\n",
    "\n",
    "plt.figure()\n",
    "plt.imshow(ski.color.label2rgb(isolated.data, nlm.data, kind='overlay', bg_label=0))\n",
    "\n",
    "ax = plt.axis('off')"
   ]
  },
  {
   "cell_type": "code",
   "execution_count": 36,
   "metadata": {},
   "outputs": [
    {
     "name": "stderr",
     "output_type": "stream",
     "text": [
      "/Users/Isra/anaconda3/lib/python3.6/site-packages/matplotlib/pyplot.py:537: RuntimeWarning: More than 20 figures have been opened. Figures created through the pyplot interface (`matplotlib.pyplot.figure`) are retained until explicitly closed and may consume too much memory. (To control this warning, see the rcParam `figure.max_open_warning`).\n",
      "  max_open_warning, RuntimeWarning)\n"
     ]
    }
   ],
   "source": [
    "grain_bd.plot(cmap='magma')"
   ]
  },
  {
   "cell_type": "code",
   "execution_count": 37,
   "metadata": {},
   "outputs": [
    {
     "name": "stderr",
     "output_type": "stream",
     "text": [
      "/Users/Isra/anaconda3/lib/python3.6/site-packages/matplotlib/pyplot.py:537: RuntimeWarning: More than 20 figures have been opened. Figures created through the pyplot interface (`matplotlib.pyplot.figure`) are retained until explicitly closed and may consume too much memory. (To control this warning, see the rcParam `figure.max_open_warning`).\n",
      "  max_open_warning, RuntimeWarning)\n"
     ]
    }
   ],
   "source": [
    "nlm.plot(scalebar=False)"
   ]
  },
  {
   "cell_type": "code",
   "execution_count": 38,
   "metadata": {},
   "outputs": [
    {
     "name": "stderr",
     "output_type": "stream",
     "text": [
      "/Users/Isra/anaconda3/lib/python3.6/site-packages/matplotlib/pyplot.py:537: RuntimeWarning: More than 20 figures have been opened. Figures created through the pyplot interface (`matplotlib.pyplot.figure`) are retained until explicitly closed and may consume too much memory. (To control this warning, see the rcParam `figure.max_open_warning`).\n",
      "  max_open_warning, RuntimeWarning)\n"
     ]
    }
   ],
   "source": [
    "grains_sep.plot(cmap='magma')"
   ]
  },
  {
   "cell_type": "code",
   "execution_count": 39,
   "metadata": {},
   "outputs": [
    {
     "name": "stderr",
     "output_type": "stream",
     "text": [
      "/Users/Isra/anaconda3/lib/python3.6/site-packages/matplotlib/pyplot.py:537: RuntimeWarning: More than 20 figures have been opened. Figures created through the pyplot interface (`matplotlib.pyplot.figure`) are retained until explicitly closed and may consume too much memory. (To control this warning, see the rcParam `figure.max_open_warning`).\n",
      "  max_open_warning, RuntimeWarning)\n",
      "Traceback (most recent call last):\n",
      "  File \"/Users/Isra/anaconda3/lib/python3.6/site-packages/matplotlib/cbook/__init__.py\", line 388, in process\n",
      "    proxy(*args, **kwargs)\n",
      "  File \"/Users/Isra/anaconda3/lib/python3.6/site-packages/matplotlib/cbook/__init__.py\", line 228, in __call__\n",
      "    return mtd(*args, **kwargs)\n",
      "  File \"/Users/Isra/anaconda3/lib/python3.6/site-packages/hyperspy/drawing/utils.py\", line 154, in function_wrapper\n",
      "    function()\n",
      "  File \"/Users/Isra/anaconda3/lib/python3.6/site-packages/hyperspy/drawing/figure.py\", line 102, in _on_close\n",
      "    self.events.closed.trigger(obj=self)\n",
      "  File \"<string>\", line 4, in trigger\n",
      "  File \"/Users/Isra/anaconda3/lib/python3.6/site-packages/hyperspy/events.py\", line 402, in trigger\n",
      "    function(**{kw: kwargs.get(kw, None) for kw in kwsl})\n",
      "  File \"/Users/Isra/anaconda3/lib/python3.6/site-packages/hyperspy/signal.py\", line 2067, in <lambda>\n",
      "    lambda: self.events.data_changed.disconnect(self.update_plot),\n",
      "  File \"/Users/Isra/anaconda3/lib/python3.6/site-packages/hyperspy/events.py\", line 373, in disconnect\n",
      "    (function, self))\n",
      "ValueError: The <bound method BaseSignal.update_plot of <Signal2D, title: scharr based water shed, dimensions: (|1024, 768)>> function is not connected to <hyperspy.events.Event: Event that triggers when the data has changed: set()>.\n",
      "Traceback (most recent call last):\n",
      "  File \"/Users/Isra/anaconda3/lib/python3.6/site-packages/matplotlib/cbook/__init__.py\", line 388, in process\n",
      "    proxy(*args, **kwargs)\n",
      "  File \"/Users/Isra/anaconda3/lib/python3.6/site-packages/matplotlib/cbook/__init__.py\", line 228, in __call__\n",
      "    return mtd(*args, **kwargs)\n",
      "  File \"/Users/Isra/anaconda3/lib/python3.6/site-packages/hyperspy/drawing/utils.py\", line 154, in function_wrapper\n",
      "    function()\n",
      "  File \"/Users/Isra/anaconda3/lib/python3.6/site-packages/hyperspy/drawing/figure.py\", line 102, in _on_close\n",
      "    self.events.closed.trigger(obj=self)\n",
      "  File \"<string>\", line 4, in trigger\n",
      "  File \"/Users/Isra/anaconda3/lib/python3.6/site-packages/hyperspy/events.py\", line 402, in trigger\n",
      "    function(**{kw: kwargs.get(kw, None) for kw in kwsl})\n",
      "  File \"/Users/Isra/anaconda3/lib/python3.6/site-packages/hyperspy/signal.py\", line 2067, in <lambda>\n",
      "    lambda: self.events.data_changed.disconnect(self.update_plot),\n",
      "  File \"/Users/Isra/anaconda3/lib/python3.6/site-packages/hyperspy/events.py\", line 373, in disconnect\n",
      "    (function, self))\n",
      "ValueError: The <bound method BaseSignal.update_plot of <Signal2D, title: scharr based water shed, dimensions: (|1024, 768)>> function is not connected to <hyperspy.events.Event: Event that triggers when the data has changed: set()>.\n"
     ]
    }
   ],
   "source": [
    "isolated.plot(cmap='magma', scalebar=False)\n"
   ]
  },
  {
   "cell_type": "markdown",
   "metadata": {},
   "source": [
    " <a href='#link2'> **Return to workflow**</a> \n",
    "\n",
    "## lets look at some particle metrics"
   ]
  },
  {
   "cell_type": "code",
   "execution_count": 40,
   "metadata": {},
   "outputs": [
    {
     "name": "stdout",
     "output_type": "stream",
     "text": [
      "590\n"
     ]
    }
   ],
   "source": [
    "num_grains = measure.label(labels, \n",
    "                        background=0)\n",
    "print(num_grains.max())\n",
    "num_grains = (num_grains + 1).astype(np.uint8)\n"
   ]
  },
  {
   "cell_type": "code",
   "execution_count": 43,
   "metadata": {},
   "outputs": [
    {
     "name": "stderr",
     "output_type": "stream",
     "text": [
      "/Users/Isra/anaconda3/lib/python3.6/site-packages/skimage/measure/_regionprops.py:250: UserWarning: regionprops and image moments (including moments, normalized moments, central moments, and inertia tensor) of 2D images will change from xy coordinates to rc coordinates in version 0.16.\n",
      "See http://scikit-image.org/docs/0.14.x/release_notes_and_installation.html#deprecations for details on how to avoid this message.\n",
      "  warn(XY_TO_RC_DEPRECATION_MESSAGE)\n",
      "/Users/Isra/anaconda3/lib/python3.6/site-packages/skimage/measure/_regionprops.py:260: UserWarning: regionprops and image moments (including moments, normalized moments, central moments, and inertia tensor) of 2D images will change from xy coordinates to rc coordinates in version 0.16.\n",
      "See http://scikit-image.org/docs/0.14.x/release_notes_and_installation.html#deprecations for details on how to avoid this message.\n",
      "  warn(XY_TO_RC_DEPRECATION_MESSAGE)\n"
     ]
    }
   ],
   "source": [
    "grain_metrics=measure.regionprops(labels)\n",
    "areas = np.array([prop.area for prop in grain_metrics])\n",
    "eccs = np.array([prop.eccentricity for prop in grain_metrics])\n",
    "lab = np.array([prop.label for prop in grain_metrics])\n",
    "corrs = np.array([prop.coords for prop in grain_metrics])  \n",
    "equi_dia= np.array([prop.equivalent_diameter for prop in grain_metrics])\n",
    "\n",
    "maj_ax=np.array([ prop.major_axis_length for prop in grain_metrics])\n",
    "min_ax=np.array([ prop.minor_axis_length for prop in grain_metrics])\n",
    "    \n"
   ]
  },
  {
   "cell_type": "code",
   "execution_count": 44,
   "metadata": {},
   "outputs": [
    {
     "name": "stderr",
     "output_type": "stream",
     "text": [
      "/Users/Isra/anaconda3/lib/python3.6/site-packages/ipykernel_launcher.py:2: VisibleDeprecationWarning: Passing `normed=True` on non-uniform bins has always been broken, and computes neither the probability density function nor the probability mass function. The result is only correct if the bins are uniform, when density=True will produce the same result anyway. The argument will be removed in a future version of numpy.\n",
      "  \n"
     ]
    },
    {
     "data": {
      "text/plain": [
       "[<matplotlib.lines.Line2D at 0x1471d5f60>]"
      ]
     },
     "execution_count": 44,
     "metadata": {},
     "output_type": "execute_result"
    }
   ],
   "source": [
    "num_bins = len(maj_ax)\n",
    "counts, bin_edges = np.histogram (np.log10(maj_ax), bins=num_bins, normed=True)\n",
    "cdf = np.cumsum (counts)\n",
    "plt.figure()\n",
    "plt.plot (bin_edges[1:], cdf/cdf[-1])\n"
   ]
  },
  {
   "cell_type": "code",
   "execution_count": 45,
   "metadata": {},
   "outputs": [
    {
     "name": "stderr",
     "output_type": "stream",
     "text": [
      "/Users/Isra/anaconda3/lib/python3.6/site-packages/ipykernel_launcher.py:1: VisibleDeprecationWarning: Passing `normed=True` on non-uniform bins has always been broken, and computes neither the probability density function nor the probability mass function. The result is only correct if the bins are uniform, when density=True will produce the same result anyway. The argument will be removed in a future version of numpy.\n",
      "  \"\"\"Entry point for launching an IPython kernel.\n"
     ]
    }
   ],
   "source": [
    "hist, bin_edges = np.histogram(maj_ax, bins=20,normed=True)\n",
    "plt.figure()\n",
    "plt.bar(bin_edges[:-1], hist, width=5)\n",
    "plt.show()"
   ]
  },
  {
   "cell_type": "markdown",
   "metadata": {},
   "source": [
    "## Dataframe for pixel units\n",
    "\n"
   ]
  },
  {
   "cell_type": "code",
   "execution_count": 60,
   "metadata": {},
   "outputs": [],
   "source": [
    "metrics_list = [ areas, eccs, maj_ax, min_ax ]"
   ]
  },
  {
   "cell_type": "code",
   "execution_count": 61,
   "metadata": {},
   "outputs": [],
   "source": [
    "\n",
    "metrics_list = [[j[i] for j in metrics_list] for i in range(len(metrics_list[0]))]\n"
   ]
  },
  {
   "cell_type": "code",
   "execution_count": 62,
   "metadata": {},
   "outputs": [
    {
     "data": {
      "text/plain": [
       "(590, 4)"
      ]
     },
     "execution_count": 62,
     "metadata": {},
     "output_type": "execute_result"
    }
   ],
   "source": [
    "mets = np.array(metrics_list)\n",
    "mets.shape"
   ]
  },
  {
   "cell_type": "code",
   "execution_count": 66,
   "metadata": {},
   "outputs": [],
   "source": [
    "met_titles=['Areas', 'eccentricty','Major axis', 'Minor Axis']"
   ]
  },
  {
   "cell_type": "code",
   "execution_count": 64,
   "metadata": {},
   "outputs": [],
   "source": [
    "import pandas as pd"
   ]
  },
  {
   "cell_type": "code",
   "execution_count": 67,
   "metadata": {},
   "outputs": [
    {
     "data": {
      "text/html": [
       "<div>\n",
       "<style scoped>\n",
       "    .dataframe tbody tr th:only-of-type {\n",
       "        vertical-align: middle;\n",
       "    }\n",
       "\n",
       "    .dataframe tbody tr th {\n",
       "        vertical-align: top;\n",
       "    }\n",
       "\n",
       "    .dataframe thead th {\n",
       "        text-align: right;\n",
       "    }\n",
       "</style>\n",
       "<table border=\"1\" class=\"dataframe\">\n",
       "  <thead>\n",
       "    <tr style=\"text-align: right;\">\n",
       "      <th></th>\n",
       "      <th>Areas</th>\n",
       "      <th>eccentricty</th>\n",
       "      <th>Major axis</th>\n",
       "      <th>Minor Axis</th>\n",
       "    </tr>\n",
       "  </thead>\n",
       "  <tbody>\n",
       "    <tr>\n",
       "      <th>0</th>\n",
       "      <td>103</td>\n",
       "      <td>0.760783</td>\n",
       "      <td>15.424582</td>\n",
       "      <td>10.010659</td>\n",
       "    </tr>\n",
       "    <tr>\n",
       "      <th>1</th>\n",
       "      <td>656</td>\n",
       "      <td>0.810951</td>\n",
       "      <td>40.508854</td>\n",
       "      <td>23.702279</td>\n",
       "    </tr>\n",
       "    <tr>\n",
       "      <th>2</th>\n",
       "      <td>406</td>\n",
       "      <td>0.946743</td>\n",
       "      <td>42.421221</td>\n",
       "      <td>13.659238</td>\n",
       "    </tr>\n",
       "    <tr>\n",
       "      <th>3</th>\n",
       "      <td>313</td>\n",
       "      <td>0.781658</td>\n",
       "      <td>28.029960</td>\n",
       "      <td>17.482487</td>\n",
       "    </tr>\n",
       "    <tr>\n",
       "      <th>4</th>\n",
       "      <td>874</td>\n",
       "      <td>0.846164</td>\n",
       "      <td>47.986259</td>\n",
       "      <td>25.572958</td>\n",
       "    </tr>\n",
       "    <tr>\n",
       "      <th>5</th>\n",
       "      <td>1070</td>\n",
       "      <td>0.896398</td>\n",
       "      <td>59.956806</td>\n",
       "      <td>26.575823</td>\n",
       "    </tr>\n",
       "    <tr>\n",
       "      <th>6</th>\n",
       "      <td>80</td>\n",
       "      <td>0.964328</td>\n",
       "      <td>23.642500</td>\n",
       "      <td>6.258371</td>\n",
       "    </tr>\n",
       "    <tr>\n",
       "      <th>7</th>\n",
       "      <td>110</td>\n",
       "      <td>0.963910</td>\n",
       "      <td>24.562851</td>\n",
       "      <td>6.539282</td>\n",
       "    </tr>\n",
       "    <tr>\n",
       "      <th>8</th>\n",
       "      <td>108</td>\n",
       "      <td>0.589867</td>\n",
       "      <td>13.703929</td>\n",
       "      <td>11.065927</td>\n",
       "    </tr>\n",
       "    <tr>\n",
       "      <th>9</th>\n",
       "      <td>87</td>\n",
       "      <td>0.885903</td>\n",
       "      <td>17.437609</td>\n",
       "      <td>8.088791</td>\n",
       "    </tr>\n",
       "    <tr>\n",
       "      <th>10</th>\n",
       "      <td>286</td>\n",
       "      <td>0.757635</td>\n",
       "      <td>25.799753</td>\n",
       "      <td>16.838953</td>\n",
       "    </tr>\n",
       "    <tr>\n",
       "      <th>11</th>\n",
       "      <td>2405</td>\n",
       "      <td>0.607038</td>\n",
       "      <td>76.282672</td>\n",
       "      <td>60.619767</td>\n",
       "    </tr>\n",
       "    <tr>\n",
       "      <th>12</th>\n",
       "      <td>82</td>\n",
       "      <td>0.987379</td>\n",
       "      <td>28.134679</td>\n",
       "      <td>4.455834</td>\n",
       "    </tr>\n",
       "    <tr>\n",
       "      <th>13</th>\n",
       "      <td>297</td>\n",
       "      <td>0.869910</td>\n",
       "      <td>28.115324</td>\n",
       "      <td>13.866768</td>\n",
       "    </tr>\n",
       "    <tr>\n",
       "      <th>14</th>\n",
       "      <td>2205</td>\n",
       "      <td>0.835517</td>\n",
       "      <td>76.382534</td>\n",
       "      <td>41.969473</td>\n",
       "    </tr>\n",
       "    <tr>\n",
       "      <th>15</th>\n",
       "      <td>90</td>\n",
       "      <td>0.673860</td>\n",
       "      <td>12.606158</td>\n",
       "      <td>9.314178</td>\n",
       "    </tr>\n",
       "    <tr>\n",
       "      <th>16</th>\n",
       "      <td>330</td>\n",
       "      <td>0.689919</td>\n",
       "      <td>24.532163</td>\n",
       "      <td>17.758501</td>\n",
       "    </tr>\n",
       "    <tr>\n",
       "      <th>17</th>\n",
       "      <td>92</td>\n",
       "      <td>0.758916</td>\n",
       "      <td>13.623688</td>\n",
       "      <td>8.871592</td>\n",
       "    </tr>\n",
       "    <tr>\n",
       "      <th>18</th>\n",
       "      <td>143</td>\n",
       "      <td>0.829869</td>\n",
       "      <td>18.898536</td>\n",
       "      <td>10.544603</td>\n",
       "    </tr>\n",
       "    <tr>\n",
       "      <th>19</th>\n",
       "      <td>398</td>\n",
       "      <td>0.687518</td>\n",
       "      <td>26.677589</td>\n",
       "      <td>19.372391</td>\n",
       "    </tr>\n",
       "    <tr>\n",
       "      <th>20</th>\n",
       "      <td>138</td>\n",
       "      <td>0.690126</td>\n",
       "      <td>15.796824</td>\n",
       "      <td>11.431998</td>\n",
       "    </tr>\n",
       "    <tr>\n",
       "      <th>21</th>\n",
       "      <td>515</td>\n",
       "      <td>0.547407</td>\n",
       "      <td>28.135546</td>\n",
       "      <td>23.545693</td>\n",
       "    </tr>\n",
       "    <tr>\n",
       "      <th>22</th>\n",
       "      <td>78</td>\n",
       "      <td>0.461096</td>\n",
       "      <td>10.636784</td>\n",
       "      <td>9.438554</td>\n",
       "    </tr>\n",
       "    <tr>\n",
       "      <th>23</th>\n",
       "      <td>409</td>\n",
       "      <td>0.866981</td>\n",
       "      <td>36.657339</td>\n",
       "      <td>18.267875</td>\n",
       "    </tr>\n",
       "    <tr>\n",
       "      <th>24</th>\n",
       "      <td>347</td>\n",
       "      <td>0.532247</td>\n",
       "      <td>23.007079</td>\n",
       "      <td>19.477538</td>\n",
       "    </tr>\n",
       "    <tr>\n",
       "      <th>25</th>\n",
       "      <td>133</td>\n",
       "      <td>0.882422</td>\n",
       "      <td>20.272909</td>\n",
       "      <td>9.537578</td>\n",
       "    </tr>\n",
       "    <tr>\n",
       "      <th>26</th>\n",
       "      <td>122</td>\n",
       "      <td>0.613308</td>\n",
       "      <td>14.120776</td>\n",
       "      <td>11.153208</td>\n",
       "    </tr>\n",
       "    <tr>\n",
       "      <th>27</th>\n",
       "      <td>194</td>\n",
       "      <td>0.832930</td>\n",
       "      <td>21.353311</td>\n",
       "      <td>11.816447</td>\n",
       "    </tr>\n",
       "    <tr>\n",
       "      <th>28</th>\n",
       "      <td>938</td>\n",
       "      <td>0.947508</td>\n",
       "      <td>67.952488</td>\n",
       "      <td>21.726503</td>\n",
       "    </tr>\n",
       "    <tr>\n",
       "      <th>29</th>\n",
       "      <td>387</td>\n",
       "      <td>0.786906</td>\n",
       "      <td>28.423968</td>\n",
       "      <td>17.539676</td>\n",
       "    </tr>\n",
       "    <tr>\n",
       "      <th>...</th>\n",
       "      <td>...</td>\n",
       "      <td>...</td>\n",
       "      <td>...</td>\n",
       "      <td>...</td>\n",
       "    </tr>\n",
       "    <tr>\n",
       "      <th>560</th>\n",
       "      <td>186</td>\n",
       "      <td>0.356306</td>\n",
       "      <td>16.202748</td>\n",
       "      <td>15.139351</td>\n",
       "    </tr>\n",
       "    <tr>\n",
       "      <th>561</th>\n",
       "      <td>219</td>\n",
       "      <td>0.923201</td>\n",
       "      <td>28.827092</td>\n",
       "      <td>11.078734</td>\n",
       "    </tr>\n",
       "    <tr>\n",
       "      <th>562</th>\n",
       "      <td>215</td>\n",
       "      <td>0.646151</td>\n",
       "      <td>19.101558</td>\n",
       "      <td>14.578488</td>\n",
       "    </tr>\n",
       "    <tr>\n",
       "      <th>563</th>\n",
       "      <td>92</td>\n",
       "      <td>0.675437</td>\n",
       "      <td>12.636423</td>\n",
       "      <td>9.318326</td>\n",
       "    </tr>\n",
       "    <tr>\n",
       "      <th>564</th>\n",
       "      <td>883</td>\n",
       "      <td>0.609988</td>\n",
       "      <td>40.753701</td>\n",
       "      <td>32.293678</td>\n",
       "    </tr>\n",
       "    <tr>\n",
       "      <th>565</th>\n",
       "      <td>275</td>\n",
       "      <td>0.857009</td>\n",
       "      <td>28.060975</td>\n",
       "      <td>14.459880</td>\n",
       "    </tr>\n",
       "    <tr>\n",
       "      <th>566</th>\n",
       "      <td>127</td>\n",
       "      <td>0.599965</td>\n",
       "      <td>14.668860</td>\n",
       "      <td>11.735472</td>\n",
       "    </tr>\n",
       "    <tr>\n",
       "      <th>567</th>\n",
       "      <td>223</td>\n",
       "      <td>0.367699</td>\n",
       "      <td>18.006144</td>\n",
       "      <td>16.744721</td>\n",
       "    </tr>\n",
       "    <tr>\n",
       "      <th>568</th>\n",
       "      <td>388</td>\n",
       "      <td>0.880546</td>\n",
       "      <td>35.936836</td>\n",
       "      <td>17.032639</td>\n",
       "    </tr>\n",
       "    <tr>\n",
       "      <th>569</th>\n",
       "      <td>70</td>\n",
       "      <td>0.596206</td>\n",
       "      <td>10.634411</td>\n",
       "      <td>8.537643</td>\n",
       "    </tr>\n",
       "    <tr>\n",
       "      <th>570</th>\n",
       "      <td>644</td>\n",
       "      <td>0.260665</td>\n",
       "      <td>29.603834</td>\n",
       "      <td>28.580412</td>\n",
       "    </tr>\n",
       "    <tr>\n",
       "      <th>571</th>\n",
       "      <td>364</td>\n",
       "      <td>0.323460</td>\n",
       "      <td>23.215701</td>\n",
       "      <td>21.967665</td>\n",
       "    </tr>\n",
       "    <tr>\n",
       "      <th>572</th>\n",
       "      <td>483</td>\n",
       "      <td>0.837717</td>\n",
       "      <td>36.167198</td>\n",
       "      <td>19.751091</td>\n",
       "    </tr>\n",
       "    <tr>\n",
       "      <th>573</th>\n",
       "      <td>159</td>\n",
       "      <td>0.860177</td>\n",
       "      <td>23.920420</td>\n",
       "      <td>12.199302</td>\n",
       "    </tr>\n",
       "    <tr>\n",
       "      <th>574</th>\n",
       "      <td>152</td>\n",
       "      <td>0.657055</td>\n",
       "      <td>16.590210</td>\n",
       "      <td>12.506412</td>\n",
       "    </tr>\n",
       "    <tr>\n",
       "      <th>575</th>\n",
       "      <td>140</td>\n",
       "      <td>0.488194</td>\n",
       "      <td>15.268958</td>\n",
       "      <td>13.325752</td>\n",
       "    </tr>\n",
       "    <tr>\n",
       "      <th>576</th>\n",
       "      <td>90</td>\n",
       "      <td>0.749411</td>\n",
       "      <td>13.892144</td>\n",
       "      <td>9.198064</td>\n",
       "    </tr>\n",
       "    <tr>\n",
       "      <th>577</th>\n",
       "      <td>234</td>\n",
       "      <td>0.481018</td>\n",
       "      <td>18.639136</td>\n",
       "      <td>16.341128</td>\n",
       "    </tr>\n",
       "    <tr>\n",
       "      <th>578</th>\n",
       "      <td>401</td>\n",
       "      <td>0.848427</td>\n",
       "      <td>33.527916</td>\n",
       "      <td>17.746754</td>\n",
       "    </tr>\n",
       "    <tr>\n",
       "      <th>579</th>\n",
       "      <td>270</td>\n",
       "      <td>0.646122</td>\n",
       "      <td>21.690474</td>\n",
       "      <td>16.554902</td>\n",
       "    </tr>\n",
       "    <tr>\n",
       "      <th>580</th>\n",
       "      <td>773</td>\n",
       "      <td>0.832667</td>\n",
       "      <td>45.151978</td>\n",
       "      <td>25.004019</td>\n",
       "    </tr>\n",
       "    <tr>\n",
       "      <th>581</th>\n",
       "      <td>294</td>\n",
       "      <td>0.836029</td>\n",
       "      <td>26.496033</td>\n",
       "      <td>14.537997</td>\n",
       "    </tr>\n",
       "    <tr>\n",
       "      <th>582</th>\n",
       "      <td>222</td>\n",
       "      <td>0.955404</td>\n",
       "      <td>32.871144</td>\n",
       "      <td>9.706924</td>\n",
       "    </tr>\n",
       "    <tr>\n",
       "      <th>583</th>\n",
       "      <td>206</td>\n",
       "      <td>0.737260</td>\n",
       "      <td>20.687956</td>\n",
       "      <td>13.976975</td>\n",
       "    </tr>\n",
       "    <tr>\n",
       "      <th>584</th>\n",
       "      <td>82</td>\n",
       "      <td>0.923743</td>\n",
       "      <td>17.619480</td>\n",
       "      <td>6.748484</td>\n",
       "    </tr>\n",
       "    <tr>\n",
       "      <th>585</th>\n",
       "      <td>1051</td>\n",
       "      <td>0.903730</td>\n",
       "      <td>59.245470</td>\n",
       "      <td>25.363096</td>\n",
       "    </tr>\n",
       "    <tr>\n",
       "      <th>586</th>\n",
       "      <td>67</td>\n",
       "      <td>0.782208</td>\n",
       "      <td>12.065011</td>\n",
       "      <td>7.516715</td>\n",
       "    </tr>\n",
       "    <tr>\n",
       "      <th>587</th>\n",
       "      <td>64</td>\n",
       "      <td>0.917083</td>\n",
       "      <td>14.907359</td>\n",
       "      <td>5.943513</td>\n",
       "    </tr>\n",
       "    <tr>\n",
       "      <th>588</th>\n",
       "      <td>38</td>\n",
       "      <td>0.886918</td>\n",
       "      <td>10.762337</td>\n",
       "      <td>4.971423</td>\n",
       "    </tr>\n",
       "    <tr>\n",
       "      <th>589</th>\n",
       "      <td>2585</td>\n",
       "      <td>0.885244</td>\n",
       "      <td>100.431045</td>\n",
       "      <td>46.713269</td>\n",
       "    </tr>\n",
       "  </tbody>\n",
       "</table>\n",
       "<p>590 rows × 4 columns</p>\n",
       "</div>"
      ],
      "text/plain": [
       "     Areas  eccentricty  Major axis  Minor Axis\n",
       "0      103     0.760783   15.424582   10.010659\n",
       "1      656     0.810951   40.508854   23.702279\n",
       "2      406     0.946743   42.421221   13.659238\n",
       "3      313     0.781658   28.029960   17.482487\n",
       "4      874     0.846164   47.986259   25.572958\n",
       "5     1070     0.896398   59.956806   26.575823\n",
       "6       80     0.964328   23.642500    6.258371\n",
       "7      110     0.963910   24.562851    6.539282\n",
       "8      108     0.589867   13.703929   11.065927\n",
       "9       87     0.885903   17.437609    8.088791\n",
       "10     286     0.757635   25.799753   16.838953\n",
       "11    2405     0.607038   76.282672   60.619767\n",
       "12      82     0.987379   28.134679    4.455834\n",
       "13     297     0.869910   28.115324   13.866768\n",
       "14    2205     0.835517   76.382534   41.969473\n",
       "15      90     0.673860   12.606158    9.314178\n",
       "16     330     0.689919   24.532163   17.758501\n",
       "17      92     0.758916   13.623688    8.871592\n",
       "18     143     0.829869   18.898536   10.544603\n",
       "19     398     0.687518   26.677589   19.372391\n",
       "20     138     0.690126   15.796824   11.431998\n",
       "21     515     0.547407   28.135546   23.545693\n",
       "22      78     0.461096   10.636784    9.438554\n",
       "23     409     0.866981   36.657339   18.267875\n",
       "24     347     0.532247   23.007079   19.477538\n",
       "25     133     0.882422   20.272909    9.537578\n",
       "26     122     0.613308   14.120776   11.153208\n",
       "27     194     0.832930   21.353311   11.816447\n",
       "28     938     0.947508   67.952488   21.726503\n",
       "29     387     0.786906   28.423968   17.539676\n",
       "..     ...          ...         ...         ...\n",
       "560    186     0.356306   16.202748   15.139351\n",
       "561    219     0.923201   28.827092   11.078734\n",
       "562    215     0.646151   19.101558   14.578488\n",
       "563     92     0.675437   12.636423    9.318326\n",
       "564    883     0.609988   40.753701   32.293678\n",
       "565    275     0.857009   28.060975   14.459880\n",
       "566    127     0.599965   14.668860   11.735472\n",
       "567    223     0.367699   18.006144   16.744721\n",
       "568    388     0.880546   35.936836   17.032639\n",
       "569     70     0.596206   10.634411    8.537643\n",
       "570    644     0.260665   29.603834   28.580412\n",
       "571    364     0.323460   23.215701   21.967665\n",
       "572    483     0.837717   36.167198   19.751091\n",
       "573    159     0.860177   23.920420   12.199302\n",
       "574    152     0.657055   16.590210   12.506412\n",
       "575    140     0.488194   15.268958   13.325752\n",
       "576     90     0.749411   13.892144    9.198064\n",
       "577    234     0.481018   18.639136   16.341128\n",
       "578    401     0.848427   33.527916   17.746754\n",
       "579    270     0.646122   21.690474   16.554902\n",
       "580    773     0.832667   45.151978   25.004019\n",
       "581    294     0.836029   26.496033   14.537997\n",
       "582    222     0.955404   32.871144    9.706924\n",
       "583    206     0.737260   20.687956   13.976975\n",
       "584     82     0.923743   17.619480    6.748484\n",
       "585   1051     0.903730   59.245470   25.363096\n",
       "586     67     0.782208   12.065011    7.516715\n",
       "587     64     0.917083   14.907359    5.943513\n",
       "588     38     0.886918   10.762337    4.971423\n",
       "589   2585     0.885244  100.431045   46.713269\n",
       "\n",
       "[590 rows x 4 columns]"
      ]
     },
     "execution_count": 67,
     "metadata": {},
     "output_type": "execute_result"
    }
   ],
   "source": [
    "particle_df = pd.DataFrame.from_records(metrics_list, columns=met_titles)\n",
    "particle_df"
   ]
  },
  {
   "cell_type": "code",
   "execution_count": 68,
   "metadata": {},
   "outputs": [],
   "source": [
    "particle_df.to_csv('SEM_grain_metrics_016.csv', index=True, header=True)"
   ]
  },
  {
   "cell_type": "markdown",
   "metadata": {},
   "source": [
    "## apply a physical size to the pixels... \n",
    "\n",
    "\n",
    " just multiply the property by the pixel size and output to a csv\n",
    "\n",
    "from header in image Image Pixel Size = ???? nm"
   ]
  },
  {
   "cell_type": "code",
   "execution_count": null,
   "metadata": {},
   "outputs": [],
   "source": [
    "pix_size= 20"
   ]
  },
  {
   "cell_type": "code",
   "execution_count": 113,
   "metadata": {},
   "outputs": [
    {
     "data": {
      "text/plain": [
       "400"
      ]
     },
     "execution_count": 113,
     "metadata": {},
     "output_type": "execute_result"
    }
   ],
   "source": [
    "20**2"
   ]
  },
  {
   "cell_type": "code",
   "execution_count": null,
   "metadata": {},
   "outputs": [],
   "source": [
    "maj_nm = pix_size* maj_ax\n",
    "minor_nm = pix_size * min_ax\n",
    "\n",
    "areas_nm = (pix_size**2)*areas\n",
    "\n",
    "eqi_radius_nm = (equi_dia/2)*pix_size\n"
   ]
  },
  {
   "cell_type": "code",
   "execution_count": null,
   "metadata": {},
   "outputs": [],
   "source": [
    "aspect_pix = maj_ax/min_ax\n",
    "aspect_nm = maj_nm/minor_nm"
   ]
  },
  {
   "cell_type": "code",
   "execution_count": null,
   "metadata": {},
   "outputs": [],
   "source": [
    "orient_deg=[]\n",
    "for i in range(len(orient)):\n",
    "    orient_deg.append(math.degrees(orient[i]))\n",
    "#orient_deg    "
   ]
  },
  {
   "cell_type": "code",
   "execution_count": null,
   "metadata": {},
   "outputs": [],
   "source": [
    "metrics_list =[part_id,corrs[: , 0],corrs[: , 1], areas, eccs,orient,orient_deg, maj_ax, min_ax, aspect_pix, maj_nm, minor_nm,aspect_nm]\n",
    "#note skipping first (ie 0) element since that is the background\n",
    "metrics_list= [[j[i] for j in metrics_list] for i in np.arange(1,len(metrics_list[0]))]\n",
    "\n",
    "mets = np.array(metrics_list)\n",
    "print(mets.shape)\n",
    "\n",
    "met_titles=['ID','Row', 'Column','Areas', 'eccentricty', 'orientation (rad)','orientation (degree)','Major axis (pix)', 'Minor Axis (pix)','aspect ratio (pixel)','Major axis (nm)', 'Minor Axis (nm)','aspect ratio (nm)']\n",
    "\n",
    "particle_df = pd.DataFrame.from_records(metrics_list, columns=met_titles)\n",
    "particle_df.to_csv('SEM_grain_metrics_revised.csv', index=True, header=True)\n",
    "particle_df\n"
   ]
  },
  {
   "cell_type": "code",
   "execution_count": null,
   "metadata": {},
   "outputs": [],
   "source": []
  },
  {
   "cell_type": "code",
   "execution_count": null,
   "metadata": {},
   "outputs": [],
   "source": []
  },
  {
   "cell_type": "code",
   "execution_count": null,
   "metadata": {},
   "outputs": [],
   "source": []
  },
  {
   "cell_type": "markdown",
   "metadata": {},
   "source": [
    " <a href='#link2'> **Return to workflow**</a> \n",
    "\n",
    "### Appendix: gnerate markers - manual selection <a id='link10'></a>\n",
    "to try and control where the seeds are a more time consuming appraoch is to manully place them.  need to use the qt4 enviroment too. Basically, this will pop up a window which you can click on to define where a particle is. The current code does not have a limit on particles or how long it takes. To 'end' the selction press the 'enter' key.{ Also look up the function documentation here: https://matplotlib.org/api/_as_gen/matplotlib.pyplot.ginput.html}\n",
    "\n",
    "\n",
    "These points are then feed into the watershed used in section 3 to define foreground and background objects.  It does not help solve the pulling apart of grains problem however."
   ]
  },
  {
   "cell_type": "code",
   "execution_count": null,
   "metadata": {},
   "outputs": [],
   "source": [
    "%matplotlib qt4\n"
   ]
  },
  {
   "cell_type": "code",
   "execution_count": null,
   "metadata": {},
   "outputs": [],
   "source": [
    "nlm.plot(cmap='viridis')"
   ]
  },
  {
   "cell_type": "code",
   "execution_count": null,
   "metadata": {},
   "outputs": [],
   "source": [
    "grains3.plot()"
   ]
  },
  {
   "cell_type": "code",
   "execution_count": 22,
   "metadata": {},
   "outputs": [
    {
     "name": "stdout",
     "output_type": "stream",
     "text": [
      "Please click\n",
      "clicked [(46.7367858984116, 60.81480617680984), (51.45040875948246, 45.73121302138304), (64.64855277048088, 43.84576387695472), (83.50304421476443, 48.55938673802564), (107.07115852011879, 43.84576387695472), (124.98292539218818, 61.757530749024), (140.06651854761498, 42.90303930474056), (104.2429848034763, 73.07022561559415), (80.67487049812189, 74.01295018780831), (75.96124763705103, 86.26836962659263), (64.64855277048088, 81.55474676552171), (51.45040875948246, 95.69561534873435), (35.42409103184144, 105.12286107087607), (83.50304421476443, 128.69097537623054), (57.10675619276748, 126.8055262318021), (110.84205680897554, 96.63833992094851), (113.67023052561802, 115.49283136523206), (135.35289568654406, 105.12286107087607), (95.75846365354869, 132.46187366508718), (113.67023052561802, 145.66001767608566), (151.37921341418502, 113.60738222080374), (174.94732771953937, 138.11822109837226), (154.2073871308276, 149.4309159649423), (135.35289568654406, 131.51914909287302), (146.6655905531142, 71.18477647116583), (165.52008199739765, 81.55474676552171), (190.97364544718044, 68.35660275452324), (176.8327768639678, 86.26836962659263), (193.80181916382293, 81.55474676552171), (218.31265804139144, 49.5021113102398), (190.97364544718044, 27.819446149313762), (242.82349691896007, 38.18941644366964), (218.31265804139144, 76.84112390445091), (207.94268774703556, 88.15381877102095), (212.65631060810648, 118.32100508187455), (266.39161122431443, 116.43555593744622), (267.3343357965286, 140.00367024280058), (247.53711978003088, 154.14453882601322), (205.11451403039308, 153.20181425379906), (193.80181916382293, 159.8008862592983), (159.86373456411258, 191.8535217145802), (136.29562025875822, 172.0563056980826), (102.35753565904787, 180.54082684801017), (73.13307392040849, 170.17085655365418), (76.90397220926519, 194.6816954312228), (69.36217563155179, 186.19717428129525), (48.62223504283992, 200.33804286450777), (44.85133675398322, 172.99903027029677), (23.168671593057184, 185.25444970908097), (50.507684187268296, 224.8488817420764), (97.64391279797707, 223.90615716986224), (108.01388309233295, 253.13061890850167), (85.38849335919275, 269.15693663614263), (66.53400191490925, 272.9278349249993), (50.507684187268296, 275.75600864164187), (39.19498932069814, 294.6105000859253), (58.992205337195855, 294.6105000859253), (84.44576878697859, 307.8086440969238), (121.21202710333142, 299.3241229469962), (158.92100999189842, 255.01606805293), (186.26002258610953, 236.16157660864644), (184.3745734416812, 260.6724154862151), (175.89005229175365, 294.6105000859253), (202.2863403137505, 302.1522966636387), (212.65631060810648, 264.4433137750717), (225.85445461910484, 251.24516976407324), (248.47984435224515, 243.70337318635984), (186.26002258610953, 180.54082684801017), (179.6609505806103, 207.87983944222117), (144.78014140868578, 236.16157660864644), (153.26466255861334, 226.73433088650472), (238.10987405788916, 178.65537770358173), (202.2863403137505, 183.36900056465265), (197.57271745267968, 197.5098691478653), (250.36529349667347, 193.73897085900865), (272.99068322981367, 188.08262342572357), (267.3343357965286, 213.53618687550625), (271.10523408538535, 234.27612746421812), (255.07891635774428, 226.73433088650472), (299.3869712518106, 178.65537770358173), (289.0170009574546, 77.78384847666507), (266.39161122431443, 69.29932732673751), (312.585115262809, 54.2157341713106), (292.7878992463114, 41.9603147325264), (334.267780423735, 114.5501067930179), (318.24146269609406, 117.37828050966039), (338.0386787125918, 138.11822109837226), (354.06499644023273, 169.22813198144001), (345.5804752903052, 196.56714457565113), (341.8095770014484, 221.07798345321964), (400.2585004787273, 224.8488817420764), (378.57583531780125, 189.9680725701519), (368.20586502344537, 164.5145091203692), (388.94580561215724, 162.62905997594078), (409.6857462008691, 176.7699285591534), (416.28481820636836, 189.9680725701519), (430.425686789581, 183.36900056465265), (462.4783222448629, 206.937114870007), (426.65478850072424, 212.59346230329209), (447.3947290894361, 237.1043011808606), (433.2538605062235, 250.30244519185908), (431.36841136179515, 269.15693663614263), (411.57119534529744, 290.83960179706867), (400.2585004787273, 271.04238578057095), (373.86221245673045, 274.8132840694277), (364.4349667345887, 288.95415265264035), (353.1222718680186, 293.66777551371115), (371.03403874008785, 312.5222669579947), (371.9767633123021, 300.2668475192104), (352.1795472958044, 311.57954238578054), (337.0959541403776, 314.407716102423), (342.7523015736627, 253.13061890850167), (327.6687084182358, 255.01606805293), (317.2987381238799, 270.0996612083568), (297.5015221073822, 259.7296909140009), (18.455048731986324, 299.3241229469962), (14.684150443129624, 286.12597893599775), (44.85133675398322, 338.91855497999154), (65.5912773426951, 346.46035155770494), (88.21666707583529, 332.3194829744923), (111.7847813811897, 346.46035155770494), (94.81573908133453, 388.88295730734285), (55.221307048339156, 385.11205901848615), (83.50304421476443, 359.6584955687034), (51.45040875948246, 365.3148430019885), (9.970527582058708, 369.0857412908452), (20.340497876414645, 351.17397441877586), (25.05412073748556, 434.1337367736233), (25.05412073748556, 477.49906709547537), (26.939569881913883, 527.4634694228266), (59.934929909410016, 528.4061939950409), (69.36217563155179, 517.0934991284707), (89.15939164804945, 522.7498465617557), (77.84669678147935, 547.2606854393243), (64.64855277048088, 487.8690373898313), (67.47672648712341, 463.35819851226273), (71.24762477598011, 444.50370706797924), (87.27394250362113, 436.96191049026584), (116.4984042422605, 434.1337367736233), (115.55567967004635, 470.89999508997613), (116.4984042422605, 516.1507745562565), (141.9519676920433, 493.5253848231163), (115.55567967004635, 566.1151768836078), (98.58663737019123, 560.4588294503228), (56.16403162055332, 579.3133208946062), (47.67951047062576, 599.110536911104), (92.93028993690615, 614.1941300665308), (79.73214592590773, 583.084219183463), (91.98756536469199, 590.6260157611764), (113.67023052561802, 586.8551174723198), (129.69654825325898, 580.2560454668205), (52.39313333169662, 637.7622443718851), (36.36681560405566, 670.7576043993813), (34.48136645962728, 706.58113814352), (98.58663737019123, 685.8411975548081), (96.7011882257629, 648.1322146662411), (134.4101711143299, 654.7312866717402), (141.9519676920433, 680.184850121523), (148.55103969754254, 700.9247907102349), (115.55567967004635, 718.8365575823042), (98.58663737019123, 718.8365575823042), (89.15939164804945, 732.9774261655168), (80.67487049812189, 750.8891930375862), (123.09747624775974, 742.4046718876587), (156.09283627525593, 738.6337735988019), (182.48912429725277, 714.1229347212334), (187.2027471583237, 678.2994009770947), (168.34825571404025, 666.9867061105246), (175.89005229175365, 662.2730832494537), (168.34825571404025, 654.7312866717402), (162.69190828075517, 642.475867232956), (186.26002258610953, 628.3349986497434), (178.71822600839613, 610.4232317776741), (188.14547173053785, 599.110536911104), (206.9999631748214, 656.6167358161687), (196.6299928804654, 647.189490094027), (222.0835563302482, 616.0795792109591), (222.0835563302482, 591.5687403333906), (209.82813689146388, 575.5424226057496), (239.05259863010332, 608.5377826332458), (262.6207129354578, 603.8241597721749), (265.44888665210027, 624.5641003608866), (246.59439520781672, 638.7049689440994), (233.39625119681824, 652.8458375273119), (253.19346721331596, 704.6956889990915), (298.44424667959635, 719.7792821545183), (292.7878992463114, 681.1275746937372), (306.928767829524, 668.872155254953), (329.5541575626642, 686.7839221270223), (348.40864900694766, 695.2684432769498), (365.3776913068029, 697.1538924213783), (357.8358947290895, 645.3040409495985), (391.7739793287997, 670.7576043993813), (413.45664448972576, 738.6337735988019), (397.4303267620848, 714.1229347212334), (368.20586502344537, 709.4093118601625), (286.18882724081215, 629.2777232219576), (302.2151449684531, 610.4232317776741), (341.8095770014484, 598.1678123388898), (350.2940981513761, 579.3133208946062), (301.27242039623894, 552.9170328726093), (281.47520437974123, 584.0269437556772), (246.59439520781672, 525.5780202783983), (253.19346721331596, 540.6616134338251), (223.02628090246236, 504.8380796896864), (187.2027471583237, 496.35355853975886), (165.52008199739765, 538.7761642893968), (194.7445437360371, 523.69257113397), (162.69190828075517, 430.3628384847666), (149.4937642697567, 400.195652173913), (135.35289568654406, 387.9402327351287), (158.92100999189842, 370.02846586305935), (172.1191540028969, 355.8875972798468), (183.43184886946705, 349.28852527434753), (194.7445437360371, 362.486669285346), (210.77086146367805, 393.59658016841377), (213.59903518032064, 418.1074190459823), (184.3745734416812, 411.5083470404831), (184.3745734416812, 396.4247538850563), (254.13619178553012, 414.3365207571256), (257.9070900743869, 447.3318807846217), (251.30801806888763, 489.7544865342596), (277.7043060908846, 503.89535511747226), (268.27706036874275, 465.24364765669105), (303.15786954066726, 459.58730022340603), (334.267780423735, 517.0934991284707), (329.5541575626642, 553.8597574448236), (345.5804752903052, 536.8907151449685), (357.8358947290895, 552.9170328726093), (325.78325927380746, 536.8907151449685), (374.8049370289446, 570.8287997446787), (373.86221245673045, 547.2606854393243), (383.28945817887217, 535.00526600054), (371.9767633123021, 535.00526600054), (422.8838902118676, 600.9959860555323), (390.83125475658557, 588.7405666167481), (421.9411656396533, 644.3613163773844), (394.6021530454423, 645.3040409495985), (453.0510765227212, 627.3922740775292), (442.6811062283652, 661.3303586772395), (428.54023764515256, 687.7266466992364), (446.45200451722195, 695.2684432769498), (423.82661478408176, 708.4665872879483), (494.5309577001448, 611.3659563498882), (481.33281368914646, 617.9650283553874), (457.764699383792, 613.2514054943166), (485.1037119780031, 661.3303586772395), (511.50000000000006, 630.2204477941717), (497.3591314167874, 644.3613163773844), (476.61919082807555, 592.5114649056047), (466.24922053371967, 575.5424226057496), (437.9674833672944, 551.9743083003953), (413.45664448972576, 559.5161048781085), (416.28481820636836, 536.8907151449685), (395.5448776176565, 514.2653254118281), (371.03403874008785, 506.7235288341148), (425.7120639285101, 498.2390076841872), (389.8885301843714, 484.09813910097455), (374.8049370289446, 482.2126899565462), (402.1439496231557, 464.3009230844769), (416.28481820636836, 458.6445756511919), (451.16562737829275, 476.55634252326115), (423.82661478408176, 432.2482876291949), (408.74302162865496, 443.560982495765), (380.4612844622297, 452.04550364569263), (353.1222718680186, 455.81640193454933), (381.40400903444385, 432.2482876291949), (337.0959541403776, 436.0191859180516), (320.1269118405224, 441.6755333513367), (310.69966611838066, 417.1646944737681), (296.558797535168, 403.9665504627697), (276.7615815186703, 432.2482876291949), (255.07891635774428, 385.11205901848615), (304.1005941128814, 372.8566395797019), (321.06963641273666, 365.3148430019885), (344.637750718091, 368.14301671863103), (338.0386787125918, 402.0811013183413), (357.8358947290895, 370.02846586305935), (376.69038617337293, 364.37211842977433), (394.6021530454423, 401.13837674612716), (398.37305133429896, 359.6584955687034), (382.346733606658, 345.5176269854908), (338.0386787125918, 346.46035155770494), (326.7259838460216, 328.54858468563566), (314.4705644072374, 340.80400412442), (295.61607296295387, 331.37675840227814), (273.93340780202783, 348.3458007021334), (254.13619178553012, 337.0331058355632), (255.07891635774428, 306.8659195247096), (232.45352662460408, 305.92319495249546), (230.56807748017576, 294.6105000859253), (276.7615815186703, 317.2358898190655), (296.558797535168, 308.75136866913795), (277.7043060908846, 277.6414577860702), (338.98140328480594, 294.6105000859253), (318.24146269609406, 135.29004738172978), (291.8451746740972, 145.66001767608566), (337.0959541403776, 79.66929762109339), (361.60679301794613, 78.72657304887923), (348.40864900694766, 66.47115361009492), (380.4612844622297, 52.33028502688228), (387.0603564677289, 105.12286107087607), (368.20586502344537, 107.95103478751867), (411.57119534529744, 66.47115361009492), (402.1439496231557, 72.12750104338), (443.62383080057936, 101.35196278201943), (450.2229028060786, 152.2590896815849), (478.50463997250387, 151.31636510937074), (492.6455085557165, 169.22813198144001), (486.9891611224314, 222.0207080254338), (482.2755382613606, 251.24516976407324), (506.78637713892914, 251.24516976407324), (517.1563474332852, 285.1832543637836), (463.42104681707707, 287.0687035082119), (464.36377138929123, 301.20957209142455), (426.65478850072424, 314.407716102423), (444.56655537279363, 355.8875972798468), (468.134669678148, 355.8875972798468), (484.16098740578894, 371.91391500748773), (470.96284339479047, 380.3984361574153), (423.82661478408176, 403.0238258905555), (493.58823312793066, 355.8875972798468), (479.447364544718, 353.0594235632042), (495.4736822723591, 335.1476566911349), (511.50000000000006, 321.00678810792226), (492.6455085557165, 302.1522966636387), (530.3544914442834, 314.407716102423), (546.3808091719245, 345.5176269854908), (521.8699702943559, 379.45571158520113), (529.4117668720694, 403.9665504627697), (507.7291017111433, 438.84735963469416), (539.7817371664253, 476.55634252326115), (486.9891611224314, 450.16005450126426), (502.07275427785834, 472.78544423440445), (473.79101711143306, 459.58730022340603), (481.33281368914646, 494.4681093953305), (507.7291017111433, 515.2080499840424), (498.3018559890016, 535.9479905727542), (484.16098740578894, 549.1461345837527), (466.24922053371967, 535.00526600054), (514.3281737166426, 567.057901455822), (531.2972160164977, 546.3179608671102), (522.8126948665702, 601.9387106277466), (546.3808091719245, 610.4232317776741), (556.7507794662804, 647.189490094027), (514.3281737166426, 674.528502688238), (528.4690422998551, 733.9201507377311), (493.58823312793066, 730.1492524488743), (495.4736822723591, 716.0083838656617), (480.3900891169323, 710.3520364323766), (466.24922053371967, 726.3783541600176), (443.62383080057936, 731.0919770210885), (439.8529325117227, 720.7220067267326), (429.48296221736683, 735.8055998821594), (573.7198217661355, 722.6074558711609), (553.922605749638, 734.8628753099451), (575.6052709105641, 677.3566764048805), (610.4860800824883, 702.8102398546632), (623.6842240934868, 725.4356295878034), (664.2213806986963, 724.4929050155893), (687.7894950040509, 678.2994009770947), (673.6486264208381, 673.5857781160238), (629.340571526772, 667.9294306827387), (625.5696732379151, 632.1058969386002), (659.5077578376256, 647.189490094027), (669.8777281319815, 623.6213757886725), (712.3003338816193, 663.2158078216679), (722.6703041759752, 692.4402695603073), (722.6703041759752, 707.5238627157341), (740.5820710480446, 742.4046718876587), (772.6347065033265, 736.7483244543736), (750.9520413424004, 705.6384135713058), (748.1238676257581, 676.4139518326663), (760.3792870645423, 671.7003289715955), (758.493837920114, 641.5331426607419), (735.8684481869736, 615.1368546387449), (755.6656642034714, 582.1414946112488), (707.5867110205484, 583.084219183463), (682.1331475707657, 601.9387106277466), (664.2213806986963, 589.6832911889621), (580.3188937716347, 520.8643974173274), (569.9489234772789, 577.4278717501779), (576.5479954827781, 600.9959860555323), (593.5170377826332, 592.5114649056047), (654.7941349765547, 545.375236294896), (670.8204527041955, 552.9170328726093), (680.2476984263374, 521.8071219895417), (651.9659612599121, 518.9789482728991), (634.996918960057, 497.296283111973), (606.7151817936317, 481.26996538433207), (523.7554194387842, 495.4108339675447), (621.7987749490585, 518.9789482728991), (736.8111727591879, 502.9526305452581), (714.1857830260476, 542.5470625782534), (736.8111727591879, 540.6616134338251), (690.6176687206932, 475.613617951047), (707.5867110205484, 473.72816880661867), (675.5340755652664, 496.35355853975886), (657.622308693197, 467.12909680111943), (674.5913509930524, 443.560982495765), (699.1021898706208, 436.96191049026584), (723.6130287481894, 424.7064910514815), (720.7848550315468, 452.9882282179068), (744.3529693369012, 457.70185107897765), (762.2647362089706, 485.04086367318877), (772.6347065033265, 493.5253848231163), (778.2910539366117, 518.9789482728991), (802.8018928141801, 587.7978420445338), (837.6827019861046, 535.9479905727542), (779.2337785088257, 643.4185918051702), (828.255456263963, 664.1585323938821), (835.7972528416763, 692.4402695603073), (879.1625831635283, 674.528502688238), (858.4226425748166, 644.3613163773844), (840.5108757027472, 613.2514054943166), (826.3700071195346, 639.6476935163134), (903.673422041097, 617.9650283553874), (880.1053077357426, 645.3040409495985), (948.9242015073773, 668.872155254953), (947.9814769351631, 699.9820661380207), (907.4443203299536, 730.1492524488743), (870.6780620136008, 718.8365575823042), (989.4613581125868, 670.7576043993813), (943.2678540740924, 647.189490094027), (942.3251295018781, 594.396914050033), (955.5232735128766, 606.6523334888174), (973.435040384946, 591.5687403333906), (988.5186335403728, 601.9387106277466), (991.3468072570151, 566.1151768836078), (927.2415363464513, 567.057901455822), (961.1796209461615, 518.0362237006849), (994.1749809736577, 522.7498465617557), (993.2322564014437, 500.12445682861556), (974.37776495716, 473.72816880661867), (963.0650700905901, 440.73280877912254), (913.1006677632388, 452.04550364569263), (912.1579431910245, 427.53466476812406), (897.0743500355977, 435.07646134583746), (880.1053077357426, 507.66625340632896), (829.198180836177, 472.78544423440445), (788.6610242309675, 460.5300247956202), (780.17650308104, 431.30556305698076), (832.9690791250339, 449.2173299290501), (847.1099477082464, 449.2173299290501), (848.9953968526747, 429.42011391255244), (817.8854859696071, 403.0238258905555), (896.1316254633834, 415.2792453293398), (914.0433923354528, 385.11205901848615), (862.1935408636732, 396.4247538850563), (862.1935408636732, 363.42939385756017), (888.5898288856702, 325.7204109689932), (951.7523752240199, 361.54394471313174), (935.7260574963789, 386.05478359070037), (725.4984778926178, 391.7111310239854), (705.70126187612, 406.7947241794122), (678.362249281909, 422.8210419070532), (651.9659612599121, 432.2482876291949), (611.4288046547026, 435.07646134583746), (667.0495544153389, 403.0238258905555), (686.8467704318366, 386.9975081629145), (654.7941349765547, 374.74208872413027), (705.70126187612, 358.71577099648925), (648.1950629710554, 354.00214813541834), (628.3978469545577, 337.0331058355632), (602.9442835047751, 346.46035155770494), (574.6625463383498, 361.54394471313174), (578.4334446272064, 385.11205901848615), (554.8653303218521, 417.1646944737681), (537.896288021997, 387.9402327351287), (561.4644023273513, 326.66313554120734), (570.8916480494931, 307.8086440969238), (576.5479954827781, 288.95415265264035), (564.2925760439939, 264.4433137750717), (551.0944320329954, 223.90615716986224), (528.4690422998551, 223.90615716986224), (529.4117668720694, 203.16621658115037), (590.6888640659909, 250.30244519185908), (632.1687452434144, 274.8132840694277), (610.4860800824883, 290.83960179706867), (645.3668892544129, 308.75136866913795), (660.4504824098397, 265.3860383472859), (681.1904229985516, 292.725050941497), (655.7368595487687, 254.07334348071583), (628.3978469545577, 239.9324748975032), (674.5913509930524, 218.24980973657716), (722.6703041759752, 303.09502123585287), (753.780215059043, 307.8086440969238), (733.0402744703313, 335.1476566911349), (756.6083887756856, 270.0996612083568), (754.7229396312573, 243.70337318635984), (796.202820808681, 256.9015171973583), (795.2600962364668, 295.55322465813947), (822.5991088306778, 308.75136866913795), (816.9427613973928, 287.0687035082119), (798.0882699531094, 325.7204109689932), (808.4582402474653, 333.2622075467066), (844.2817739916038, 331.37675840227814), (849.938121424889, 312.5222669579947), (843.3390494193898, 297.4386738025679), (838.6254265583188, 279.5269069304985), (858.4226425748166, 253.13061890850167), (921.5851889131663, 287.0687035082119), (919.699739768738, 304.9804703802813), (894.2461763189551, 290.83960179706867), (947.9814769351631, 296.49594923035374), (967.7786929516608, 292.725050941497), (989.4613581125868, 282.3550806471411), (992.2895318292294, 303.09502123585287), (965.8932438072325, 320.0640635357081), (930.0697100630939, 347.4030761299192), (939.4969557852355, 273.87055949721355), (944.2105786463064, 229.5625046031472), (967.7786929516608, 214.4789114477204), (988.5186335403728, 243.70337318635984), (966.8359683794467, 189.02534799793773), (951.7523752240199, 167.3426828370117), (920.6424643409521, 162.62905997594078), (951.7523752240199, 151.31636510937074), (908.3870449021679, 142.83184395944318), (889.5325534578842, 175.82720398693925), (874.4489603024574, 179.598102275796), (862.1935408636732, 211.65073773107792), (824.4845579751061, 186.19717428129525), (849.938121424889, 156.9727125426558), (791.4891979476101, 204.10894115336453), (777.3483293643974, 212.59346230329209), (766.9783590700415, 219.19253430879132), (769.8065327866841, 196.56714457565113), (755.6656642034714, 214.4789114477204), (716.0712321704759, 193.73897085900865), (748.1238676257581, 176.7699285591534), (777.3483293643974, 156.9727125426558), (814.1145876807502, 144.7172931038715), (549.2089828885671, 156.9727125426558), (661.3932069820539, 188.08262342572357), (716.0712321704759, 168.28540740922585), (704.758537303906, 143.77456853165734), (682.1331475707657, 134.3473228095155), (710.414884737191, 123.97735251515962), (646.3096138266271, 124.92007708737378), (618.9706012324159, 147.54546682051398), (599.1733852159184, 108.89375935973283), (565.235300616208, 101.35196278201943), (548.2662583163528, 121.14917879851714), (537.896288021997, 129.6336999484447), (518.0990720054992, 120.20645422630287), (484.16098740578894, 118.32100508187455), (510.5572754277859, 95.69561534873435), (478.50463997250387, 82.49747133773587), (512.4427245722143, 66.47115361009492), (464.36377138929123, 44.78848844916888), (518.0990720054992, 36.30396729924132), (438.91020793950855, 75.89839933223664), (582.2043429160633, 55.158458743524875), (580.3188937716347, 29.704895293742084), (603.8870080769893, 72.12750104338), (618.0278766602019, 53.27300959909644), (641.5959909655562, 68.35660275452324), (628.3978469545577, 33.47579358259884), (653.8514104043404, 29.704895293742084), (658.5650332654113, 41.9603147325264), (666.1068298431248, 12.735852993886965), (687.7894950040509, 32.533069010384565), (670.8204527041955, 45.73121302138304), (682.1331475707657, 55.158458743524875), (701.9303635872634, 56.101183315739036), (725.4984778926178, 65.52842903788076), (701.9303635872634, 89.09654334323511), (707.5867110205484, 102.29468735423359), (678.362249281909, 98.52378906537695), (689.6749441484792, 107.95103478751867), (670.8204527041955, 107.0083102153045), (736.8111727591879, 101.35196278201943), (741.5247956202588, 145.66001767608566), (741.5247956202588, 130.57642452065886), (725.4984778926178, 147.54546682051398), (818.8282105418211, 94.75289077652019), (845.2244985638181, 86.26836962659263), (865.0217145803158, 93.81016620430603), (803.7446173863943, 66.47115361009492), (851.8235705693173, 63.642979893452434), (896.1316254633834, 82.49747133773587), (879.1625831635283, 48.55938673802564), (906.5015957577396, 43.84576387695472), (922.5279134853804, 56.101183315739036), (945.1533032185207, 87.21109419880679), (945.1533032185207, 110.77920850416115), (935.7260574963789, 121.14917879851714), (956.4659980850909, 121.14917879851714), (994.1749809736577, 98.52378906537695), (996.0604301180861, 62.700255321238274), (803.7446173863943, 36.30396729924132), (824.4845579751061, 23.105823288242846), (769.8065327866841, 18.392200427172043), (771.6919819311124, 41.01759016031224), (753.780215059043, 25.93399700488544), (833.9118036972479, 11.793128421672805), (849.938121424889, 24.991272432671167), (857.4799180026023, 12.735852993886965), (870.6780620136008, 20.277649571600364), (893.3034517467411, 19.334924999386203), (910.2724940465962, 23.105823288242846), (970.6068666683034, 23.105823288242846), (570.8916480494931, 641.5331426607419), (618.9706012324159, 603.8241597721749)]\n"
     ]
    }
   ],
   "source": [
    "from __future__ import print_function\n",
    "\n",
    "\n",
    "plt.figure()\n",
    "\n",
    "plt.imshow(nlm.data)\n",
    "print(\"Please click\")\n",
    "markers = plt.ginput(-1,-1)\n",
    "np.save('grain_markers', markers)\n",
    "print(\"clicked\", markers)\n",
    "plt.show()"
   ]
  },
  {
   "cell_type": "code",
   "execution_count": null,
   "metadata": {},
   "outputs": [],
   "source": [
    "clk_mark=markers"
   ]
  },
  {
   "cell_type": "code",
   "execution_count": null,
   "metadata": {},
   "outputs": [],
   "source": [
    "%matplotlib inline"
   ]
  },
  {
   "cell_type": "markdown",
   "metadata": {},
   "source": [
    "proably a better way to do this but"
   ]
  },
  {
   "cell_type": "code",
   "execution_count": 24,
   "metadata": {},
   "outputs": [
    {
     "data": {
      "text/plain": [
       "[<matplotlib.lines.Line2D at 0x29f21d8e278>]"
      ]
     },
     "execution_count": 24,
     "metadata": {},
     "output_type": "execute_result"
    }
   ],
   "source": [
    "x, y = np.load('grain_markers.npy').T\n",
    "plt.imshow(nlm.data, cmap='gray')\n",
    "plt.plot(x, y, 'or', ms=4)"
   ]
  },
  {
   "cell_type": "code",
   "execution_count": 25,
   "metadata": {},
   "outputs": [],
   "source": [
    "from skimage import morphology\n",
    "seg_markers = np.zeros(grain_bin2.data.shape, dtype=np.int)\n",
    "seg_markers[y.astype(np.int), x.astype(np.int)] = np.arange(len(x)) + 1\n",
    "seg_markers = morphology.dilation(seg_markers, morphology.disk(3))\n",
    "seg_markers_map=hs.signals.Signal2D(seg_markers)\n",
    "seg_markers_map.change_dtype('float32')\n",
    "seg_markers_map.metadata.General.title = 'clicked markers only'\n",
    "seg_markers_map.data[seg_markers_map.data==0]=np.nan\n",
    "seg_markers_map.plot(cmap='magma')\n",
    "\n",
    "\n"
   ]
  },
  {
   "cell_type": "code",
   "execution_count": 26,
   "metadata": {},
   "outputs": [
    {
     "name": "stdout",
     "output_type": "stream",
     "text": [
      "605\n"
     ]
    }
   ],
   "source": [
    "distance = ndi.distance_transform_edt(grains3.data)\n",
    "labels = mph.watershed(grains3.data, seg_markers, mask=grains3.data)\n",
    "grains_ws2= hs.signals.Signal2D(labels)\n",
    "grains_ws2.change_dtype('float32')\n",
    "grains_ws2.metadata.General.title = 'local maximum water shed'\n",
    "grains_ws2.data[grains_ws2.data==0]=np.nan\n",
    "grains_ws2.plot(cmap='magma')\n",
    "num_grains = measure.label(labels, \n",
    "                        background=0)\n",
    "print(num_grains.max())\n",
    "num_grains = (num_grains + 1).astype(np.uint8)"
   ]
  },
  {
   "cell_type": "code",
   "execution_count": 40,
   "metadata": {},
   "outputs": [
    {
     "name": "stdout",
     "output_type": "stream",
     "text": [
      "605\n"
     ]
    }
   ],
   "source": [
    "\n",
    "\n",
    "labels = mph.watershed(-distance, seg_markers, mask=grains3.data)\n",
    "grains_sep= hs.signals.Signal2D(labels)\n",
    "grains_sep.change_dtype('float32')\n",
    "grains_sep.metadata.General.title = 'h_maxima water shed'\n",
    "grains_sep.data[grains_sep.data==0]=np.nan\n",
    "grains_sep.plot(cmap='magma', scalebar=False)\n",
    "num_grains = measure.label(labels, \n",
    "                        background=0)\n",
    "print(num_grains.max())\n",
    "num_grains = (num_grains + 1).astype(np.uint8)\n"
   ]
  },
  {
   "cell_type": "markdown",
   "metadata": {},
   "source": [
    " <a href='#link2'> **Return to workflow**</a>\n",
    " \n",
    " <a href='#link8'> ** object segmenting**</a>"
   ]
  },
  {
   "cell_type": "code",
   "execution_count": null,
   "metadata": {},
   "outputs": [],
   "source": [
    "500*12"
   ]
  },
  {
   "cell_type": "code",
   "execution_count": null,
   "metadata": {},
   "outputs": [],
   "source": [
    "(6000-4546)/500\n"
   ]
  },
  {
   "cell_type": "code",
   "execution_count": null,
   "metadata": {},
   "outputs": [],
   "source": []
  }
 ],
 "metadata": {
  "kernelspec": {
   "display_name": "Python 3",
   "language": "python",
   "name": "python3"
  },
  "language_info": {
   "codemirror_mode": {
    "name": "ipython",
    "version": 3
   },
   "file_extension": ".py",
   "mimetype": "text/x-python",
   "name": "python",
   "nbconvert_exporter": "python",
   "pygments_lexer": "ipython3",
   "version": "3.7.4"
  }
 },
 "nbformat": 4,
 "nbformat_minor": 2
}
